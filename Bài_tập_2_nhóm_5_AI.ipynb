{
  "nbformat": 4,
  "nbformat_minor": 0,
  "metadata": {
    "colab": {
      "provenance": [],
      "include_colab_link": true
    },
    "kernelspec": {
      "name": "python3",
      "display_name": "Python 3"
    },
    "language_info": {
      "name": "python"
    }
  },
  "cells": [
    {
      "cell_type": "markdown",
      "metadata": {
        "id": "view-in-github",
        "colab_type": "text"
      },
      "source": [
        "<a href=\"https://colab.research.google.com/github/HIEU17A3DHKL/09_NGUYEN_MINH_HIEU_DHKL17A3HN_23174600136/blob/main/B%C3%A0i_t%E1%BA%ADp_2_nh%C3%B3m_5_AI.ipynb\" target=\"_parent\"><img src=\"https://colab.research.google.com/assets/colab-badge.svg\" alt=\"Open In Colab\"/></a>"
      ]
    },
    {
      "cell_type": "markdown",
      "source": [
        "# **I.GIỚI THIỆU CHUNG**\n"
      ],
      "metadata": {
        "id": "HjV5n4LN9RyB"
      }
    },
    {
      "cell_type": "markdown",
      "source": [
        "### TÊN HỌC PHẦN: NHẬP MÔN AI\n",
        "\n",
        "Giảng viên: Nguyễn Huy Hòa\n",
        "\n",
        "👥 Các thành viên nhóm :\n",
        "*   Hồ Nguyễn Sĩ Hải (Trưởng nhóm)\n",
        "*   Nguyễn Minh Hiếu\n",
        "*   Lê Anh Vũ\n",
        "*   Nguyễn Văn Tuấn Hưng\n",
        "*   Nguyễn Đăng Sơn\n",
        "\n",
        "\n",
        "📂 Bộ dữ liệu sử dụng: *Linnerud Dataset*\n",
        "\n",
        "\n",
        "-Thuật toán sử dụng: Linear Regresstion, Ridge Regression, KNeighborsRegressor\n"
      ],
      "metadata": {
        "id": "Ufn78dKk9b6e"
      }
    },
    {
      "cell_type": "markdown",
      "source": [
        "# 🎯 MỤC TIÊU BÀI TẬP  \n",
        " 👉 **Áp dụng các thuật toán học máy để huấn luyện và đánh giá mô hình trên một tập dữ liệu, từ đó:**\n",
        "- Hiểu cách lựa chọn và triển khai các thuật toán học máy phù hợp với từng loại bài toán.\n",
        "\n",
        "- Nắm vững quy trình huấn luyện mô hình, bao gồm chia tập dữ liệu, xử lý dữ liệu, huấn luyện và tối ưu tham số.\n",
        "\n",
        "- Đánh giá và so sánh hiệu suất của các mô hình bằng các chỉ số như Accuracy, Precision, Recall, F1-score, AUC-ROC…\n",
        "\n",
        "- Phân tích và rút ra kết luận về mô hình phù hợp nhất, hiểu được điểm mạnh/yếu của từng thuật toán trong thực tế."
      ],
      "metadata": {
        "id": "aYvQZP9o-UEk"
      }
    },
    {
      "cell_type": "markdown",
      "source": [
        "# **II.MÔ TẢ VỀ CÁC THUẬT TOÁN**"
      ],
      "metadata": {
        "id": "LUuLJVLL_YY6"
      }
    },
    {
      "cell_type": "markdown",
      "source": [
        "**Linear Regression**\n",
        "\n",
        "- Linear Regression là thuật toán hồi quy tuyến tính, tìm đường thẳng tốt nhất mô tả quan hệ giữa đầu vào và đầu ra, bằng cách tối thiểu hóa sai số dự đoán. Đây là mô hình đơn giản, thường dùng làm baseline."
      ],
      "metadata": {
        "id": "wktgChNw_g4b"
      }
    },
    {
      "cell_type": "markdown",
      "source": [
        "**Ridge Regression**\n",
        "\n",
        "- Ridge Regression là một biến thể của Linear Regression, có bổ sung thêm một thành phần regularization (L2 penalty) vào hàm mất mát. Điều này giúp kiểm soát độ lớn của các hệ số hồi quy, từ đó giảm hiện tượng overfitting, đặc biệt trong trường hợp có nhiều đặc trưng liên quan chặt chẽ (đa cộng tuyến)."
      ],
      "metadata": {
        "id": "sMpwQxr3_-up"
      }
    },
    {
      "cell_type": "markdown",
      "source": [
        "**KNeighborsRegressor**\n",
        "\n",
        "- KNeighborsRegressor là một thuật toán hồi quy phi tham số, hoạt động dựa trên nguyên lý \"gần thì giống\". Với một điểm dữ liệu mới, thuật toán sẽ tìm k điểm gần nhất trong tập huấn luyện (dựa trên khoảng cách, thường là Euclidean), sau đó dự đoán đầu ra bằng trung bình các giá trị của k láng giềng. Thuật toán này đơn giản nhưng rất hiệu quả trong những bài toán có cấu trúc không tuyến tính rõ ràng."
      ],
      "metadata": {
        "id": "4_V56uPTACFL"
      }
    },
    {
      "cell_type": "markdown",
      "source": [
        "**Lý do lựa chọn các thuật toán**\n",
        "\n",
        "Ba thuật toán này đại diện cho ba cách tiếp cận khác nhau trong bài toán hồi quy:\n",
        "\n",
        "- Linear Regression cung cấp baseline đơn giản.\n",
        "\n",
        "- Ridge Regression giúp kiểm soát mô hình với dữ liệu có đa cộng tuyến.\n",
        "\n",
        "- KNeighborsRegressor lại khai thác tính cục bộ trong không gian dữ liệu.\n",
        "\n",
        "Việc so sánh các mô hình này sẽ giúp đánh giá hiệu quả của từng phương pháp trong bối cảnh cụ thể và lựa chọn được thuật toán phù hợp nhất với bộ dữ liệu."
      ],
      "metadata": {
        "id": "Jbk_Gk_6AQXm"
      }
    },
    {
      "cell_type": "markdown",
      "source": [
        "#III.THUẬT TOÁN KNN Regressor"
      ],
      "metadata": {
        "id": "U2wTMCxIHI4i"
      }
    },
    {
      "cell_type": "markdown",
      "source": [
        "###1.Giới thiệu"
      ],
      "metadata": {
        "id": "ocLTt1CMIjIG"
      }
    },
    {
      "cell_type": "markdown",
      "source": [
        "Mục tiêu của bài tập:\n",
        "\n",
        "* Mục tiêu chính của bài tập là áp dụng thuật toán học máy vào bài toán hồi quy để dự đoán các chỉ số thể lực của một người (như trọng lượng, thể tích phổi, nhịp tim) dựa trên kết quả thực hiện các bài tập thể chất (số lần gập bụng, chống đẩy, ngồi xổm). Thông qua bài toán này, ta có thể:\n",
        "\n",
        " + Thực hành quy trình xử lý dữ liệu, huấn luyện và đánh giá mô hình hồi quy.\n",
        "\n",
        " + So sánh hiệu quả của các mô hình học máy trong việc dự đoán dữ liệu thực.\n",
        "\n",
        " + Nâng cao khả năng chọn thuật toán phù hợp và điều chỉnh tham số cho bài toán cụ thể.\n",
        "\n",
        "\n",
        "Mô tả ngắn về thuật toán học máy được chọn: KNeighborsRegressor\n",
        "\n",
        "+ KNeighborsRegressor (KNN Hồi quy) là một thuật toán học máy đơn giản nhưng hiệu quả, dựa trên nguyên lý “hàng xóm gần nhất”. Cách hoạt động của thuật toán:\n",
        "\n",
        " + Khi cần dự đoán đầu ra cho một điểm mới, mô hình sẽ tìm k điểm gần nhất trong tập huấn luyện (dựa trên khoảng cách Euclidean).\n",
        "\n",
        " + Kết quả dự đoán là trung bình đầu ra của k điểm gần nhất này.\n",
        "\n",
        " + KNN là mô hình không tuyến tính và không cần huấn luyện tham số, nhưng phụ thuộc mạnh vào chọn lựa giá trị k và chuẩn hóa dữ liệu.\n",
        "\n",
        "\n",
        "Lý do chọn KNN Regressor cho bài toán này:\n",
        "\n",
        "+ Thích hợp với bài toán nhỏ và có số chiều không quá cao, như Linnerud.\n",
        "\n",
        "+ Dễ hiểu và triển khai nhanh: không cần huấn luyện phức tạp, chỉ cần chọn k.\n",
        "\n",
        "+ Có thể dễ dàng điều chỉnh độ phức tạp mô hình bằng cách thay đổi giá trị k.\n",
        "\n",
        "+ Thử nghiệm mô hình này giúp đánh giá hiệu quả của các phương pháp đơn giản trước khi triển khai mô hình phức tạp hơn.\n",
        "\n",
        "\n",
        "Mục tiêu áp dụng thuật toán:\n",
        "\n",
        "+ Thực hiện hồi quy đa đầu ra (multi-output regression) để dự đoán đồng thời ba chỉ số thể lực.\n",
        "\n",
        "+ So sánh sai số và đánh giá độ chính xác giữa các giá trị k khác nhau.\n",
        "\n",
        "+ Kiểm tra khả năng mô hình trong việc tổng quát hóa dữ liệu chưa từng thấy thông qua đánh giá trên tập kiểm tra."
      ],
      "metadata": {
        "id": "2pzJPnPNJAiR"
      }
    },
    {
      "cell_type": "markdown",
      "source": [
        "###2.Chuẩn bị dữ liệu"
      ],
      "metadata": {
        "id": "8aqGZUnWIq0X"
      }
    },
    {
      "cell_type": "markdown",
      "source": [
        "2.1.Mô tả bộ dữ liệu:\n",
        "\n",
        "+ Bộ dữ liệu Linnerud là một bộ dữ liệu nổi tiếng được tích hợp sẵn trong thư viện scikit-learn.\n",
        "\n",
        "+ Dữ liệu gồm 20 mẫu, với hai phần:\n",
        "\n",
        " + Đầu vào (X): 3 biến đặc trưng thể hiện khả năng luyện tập:\n",
        "\n",
        "   + Chins – Số lần chống đẩy.\n",
        "\n",
        "   + Situps – Số lần gập bụng.\n",
        "\n",
        "   + Jumps – Số lần nhảy.\n",
        "\n",
        " + Đầu ra (Y): 3 chỉ số thể lực cần dự đoán:\n",
        "\n",
        "   + Weight – Trọng lượng (kg).\n",
        "\n",
        "   + Waist – Chu vi eo (cm).\n",
        "\n",
        "   + Pulse – Nhịp tim sau khi luyện tập (bpm)."
      ],
      "metadata": {
        "id": "eAhbeE6xKrmg"
      }
    },
    {
      "cell_type": "markdown",
      "source": [
        "2.2.Tải và trích xuất dữ liệu:\n",
        "\n",
        "Dữ liệu được tải bằng cách sử dụng:"
      ],
      "metadata": {
        "id": "Y9_r3_SiLNze"
      }
    },
    {
      "cell_type": "code",
      "source": [
        "from sklearn.datasets import load_linnerud\n",
        "data = load_linnerud()\n",
        "X = data.data        # input features (Chins, Situps, Jumps)\n",
        "y = data.target      # target values (Weight, Waist, Pulse)\n",
        "print(\"Chins, Situps, Jumps\\n\", X)\n",
        "print(\"Weight, Waist, Pulse\\n\", y)"
      ],
      "metadata": {
        "colab": {
          "base_uri": "https://localhost:8080/"
        },
        "id": "p23SE0WrLdOX",
        "outputId": "7be82a01-3caa-4323-aac5-c01e0e638674"
      },
      "execution_count": null,
      "outputs": [
        {
          "output_type": "stream",
          "name": "stdout",
          "text": [
            "Chins, Situps, Jumps\n",
            " [[  5. 162.  60.]\n",
            " [  2. 110.  60.]\n",
            " [ 12. 101. 101.]\n",
            " [ 12. 105.  37.]\n",
            " [ 13. 155.  58.]\n",
            " [  4. 101.  42.]\n",
            " [  8. 101.  38.]\n",
            " [  6. 125.  40.]\n",
            " [ 15. 200.  40.]\n",
            " [ 17. 251. 250.]\n",
            " [ 17. 120.  38.]\n",
            " [ 13. 210. 115.]\n",
            " [ 14. 215. 105.]\n",
            " [  1.  50.  50.]\n",
            " [  6.  70.  31.]\n",
            " [ 12. 210. 120.]\n",
            " [  4.  60.  25.]\n",
            " [ 11. 230.  80.]\n",
            " [ 15. 225.  73.]\n",
            " [  2. 110.  43.]]\n",
            "Weight, Waist, Pulse\n",
            " [[191.  36.  50.]\n",
            " [189.  37.  52.]\n",
            " [193.  38.  58.]\n",
            " [162.  35.  62.]\n",
            " [189.  35.  46.]\n",
            " [182.  36.  56.]\n",
            " [211.  38.  56.]\n",
            " [167.  34.  60.]\n",
            " [176.  31.  74.]\n",
            " [154.  33.  56.]\n",
            " [169.  34.  50.]\n",
            " [166.  33.  52.]\n",
            " [154.  34.  64.]\n",
            " [247.  46.  50.]\n",
            " [193.  36.  46.]\n",
            " [202.  37.  62.]\n",
            " [176.  37.  54.]\n",
            " [157.  32.  52.]\n",
            " [156.  33.  54.]\n",
            " [138.  33.  68.]]\n"
          ]
        }
      ]
    },
    {
      "cell_type": "markdown",
      "source": [
        "Giải thích code:\n",
        "\n",
        "+ from sklearn.datasets import load_linnerud\n",
        " + sklearn.datasets: là module chứa nhiều bộ dữ liệu mẫu có sẵn cho việc học và thử nghiệm.\n",
        "\n",
        "+ load_linnerud: là một hàm được cung cấp sẵn để tải bộ dữ liệu Linnerud.\n",
        "\n",
        "+ Bộ Linnerud là một bộ dữ liệu thể chất, gồm:\n",
        "\n",
        " + 3 đặc trưng đầu vào (X): số lần chống đẩy, gập bụng, nhảy.\n",
        "\n",
        " + 3 giá trị đầu ra (y): trọng lượng, vòng eo, nhịp tim.\n",
        "\n",
        "+ data = load_linnerud()\n",
        " + Gọi hàm load_linnerud() để tải dữ liệu vào biến data.\n",
        "\n",
        " + Biến data bây giờ là một đối tượng kiểu Bunch, gần giống như một từ điển (dictionary).\n",
        "\n",
        " + Bạn có thể truy cập các phần bên trong data bằng cú pháp như:\n",
        "\n",
        "   + data.data → đặc trưng đầu vào.\n",
        "\n",
        "   + data.target → nhãn đầu ra.\n",
        "\n",
        "   + data.feature_names → tên các đặc trưng đầu vào.\n",
        "\n",
        "   + data.target_names → tên các nhãn đầu ra.\n",
        "\n"
      ],
      "metadata": {
        "id": "Uk6g_8JFPdoy"
      }
    },
    {
      "cell_type": "markdown",
      "source": [
        "2.3.Chia tập dữ liệu: huấn luyện và kiểm tra:\n",
        "\n",
        "+ Dữ liệu được chia thành hai phần:\n",
        "\n",
        " + 80% dùng để huấn luyện mô hình.\n",
        "\n",
        " + 20% còn lại để đánh giá mô hình.\n",
        "\n",
        "+ Sử dụng train_test_split từ sklearn.model_selection để chia dữ liệu ngẫu nhiên và đảm bảo tái lập bằng cách thiết lập random_state."
      ],
      "metadata": {
        "id": "wEbDXRIIMEjM"
      }
    },
    {
      "cell_type": "code",
      "source": [
        "from sklearn.model_selection import train_test_split\n",
        "X_train, X_test, y_train, y_test = train_test_split(X, y, test_size=0.2, random_state=42)\n",
        "print(\"Chins, Situps, Jumps\")\n",
        "print(\"Dữ liệu đầu vào để huấn luyện(80%): \\n\",X_train,\"\\nPhần input để kiểm tra mô hình(20%): \\n\", X_test)\n",
        "print(\"\\nWeight, Waist, Pulse\")\n",
        "print(\"Dữ liệu đầu ra để huấn luyện(80%): \\n\",y_train,\"\\nPhần output để kiểm tra mô hình(20%): \\n\", y_test)"
      ],
      "metadata": {
        "colab": {
          "base_uri": "https://localhost:8080/"
        },
        "id": "DMfQelnyMPxY",
        "outputId": "f0f4f0b9-d5d6-469d-8b99-b6aecad11fe9"
      },
      "execution_count": null,
      "outputs": [
        {
          "output_type": "stream",
          "name": "stdout",
          "text": [
            "Chins, Situps, Jumps\n",
            "Dữ liệu đầu vào để huấn luyện(80%): \n",
            " [[ 15. 200.  40.]\n",
            " [  4. 101.  42.]\n",
            " [ 13. 210. 115.]\n",
            " [ 12. 105.  37.]\n",
            " [ 15. 225.  73.]\n",
            " [  4.  60.  25.]\n",
            " [  1.  50.  50.]\n",
            " [ 12. 101. 101.]\n",
            " [ 17. 251. 250.]\n",
            " [  2. 110.  43.]\n",
            " [ 13. 155.  58.]\n",
            " [ 14. 215. 105.]\n",
            " [  6. 125.  40.]\n",
            " [ 17. 120.  38.]\n",
            " [  6.  70.  31.]\n",
            " [  8. 101.  38.]] \n",
            "Phần input để kiểm tra mô hình(20%): \n",
            " [[  5. 162.  60.]\n",
            " [ 11. 230.  80.]\n",
            " [ 12. 210. 120.]\n",
            " [  2. 110.  60.]]\n",
            "\n",
            "Weight, Waist, Pulse\n",
            "Dữ liệu đầu ra để huấn luyện(80%): \n",
            " [[176.  31.  74.]\n",
            " [182.  36.  56.]\n",
            " [166.  33.  52.]\n",
            " [162.  35.  62.]\n",
            " [156.  33.  54.]\n",
            " [176.  37.  54.]\n",
            " [247.  46.  50.]\n",
            " [193.  38.  58.]\n",
            " [154.  33.  56.]\n",
            " [138.  33.  68.]\n",
            " [189.  35.  46.]\n",
            " [154.  34.  64.]\n",
            " [167.  34.  60.]\n",
            " [169.  34.  50.]\n",
            " [193.  36.  46.]\n",
            " [211.  38.  56.]] \n",
            "Phần output để kiểm tra mô hình(20%): \n",
            " [[191.  36.  50.]\n",
            " [157.  32.  52.]\n",
            " [202.  37.  62.]\n",
            " [189.  37.  52.]]\n"
          ]
        }
      ]
    },
    {
      "cell_type": "markdown",
      "source": [
        "Giải thích code\n",
        "\n",
        "+ from sklearn.model_selection import train_test_split\n",
        "\n",
        " + Đây là câu lệnh nhập (import) hàm train_test_split từ thư viện scikit-learn.\n",
        "\n",
        "+ train_test_split là công cụ giúp tự động chia dữ liệu thành 2 phần:\n",
        "\n",
        "  + tập huấn luyện (training set)\n",
        "\n",
        "  + tập kiểm tra (testing set)\n",
        "\n",
        "+ X_train, X_test, y_train, y_test = train_test_split(...)\n",
        "\n",
        " + Đây là phần chính để chia dữ liệu.\n",
        "\n",
        "+ Biến\t:                   Ý nghĩa\n",
        "\n",
        " + X_train: \tPhần dữ liệu đầu vào dùng để huấn luyện mô hình.\n",
        "\n",
        " + X_test: \tPhần dữ liệu đầu vào dùng để kiểm tra mô hình.\n",
        "\n",
        " + y_train: \tNhãn (output) tương ứng với X_train.\n",
        "\n",
        " + y_test: \tNhãn tương ứng với X_test.\n",
        "\n",
        "+ X, y\n",
        "\n",
        "  + X: là toàn bộ đầu vào (ví dụ: số lần chống đẩy, gập bụng, nhảy).\n",
        "\n",
        "  + y: là toàn bộ đầu ra (ví dụ: cân nặng, vòng eo, nhịp tim).\n",
        "\n",
        "  + Mình cần chia X và y tương ứng để không bị lệch thứ tự giữa dữ liệu đầu vào và kết quả đúng.\n",
        "\n",
        "+ test_size=0.2\n",
        "\n",
        " + Nghĩa là: 20% dữ liệu sẽ dùng làm tập kiểm tra (test).\n",
        "\n",
        " + Ngược lại, 80% còn lại sẽ là tập huấn luyện.\n",
        "\n",
        "+ Ví dụ: Nếu có 20 mẫu dữ liệu, ta sẽ chia thành:\n",
        "\n",
        " + 16 mẫu để huấn luyện (X_train, y_train)\n",
        "\n",
        " + 4 mẫu để kiểm tra (X_test, y_test)\n",
        "\n",
        "+ random_state=42\n",
        "\n",
        " + Dùng để đảm bảo kết quả chia dữ liệu luôn giống nhau mỗi lần chạy.\n",
        "\n",
        " + Bởi vì nếu không có random_state, mỗi lần chia sẽ ngẫu nhiên khác nhau → khó tái hiện kết quả.\n",
        "\n",
        " + Số 42 chỉ là một con số bất kỳ, bạn có thể dùng 0, 123, v.v...\n",
        "\n"
      ],
      "metadata": {
        "id": "iRLBFewNQNZp"
      }
    },
    {
      "cell_type": "markdown",
      "source": [
        "2.4.Xử lý dữ liệu đầu vào và đầu ra:\n",
        "\n",
        "+ Do thuật toán KNN dựa vào khoảng cách Euclidean, nên việc chuẩn hóa dữ liệu là cực kỳ quan trọng. Nếu không chuẩn hóa, các đặc trưng có đơn vị lớn hơn sẽ chi phối khoảng cách.\n",
        "\n",
        " + Chuẩn hóa cả dữ liệu đầu vào (X) và đầu ra (y) bằng StandardScaler."
      ],
      "metadata": {
        "id": "btE95OhvMaaA"
      }
    },
    {
      "cell_type": "code",
      "source": [
        "from sklearn.preprocessing import StandardScaler\n",
        "\n",
        "scaler_X = StandardScaler()       # Tạo bộ chuẩn hóa cho X (input)\n",
        "scaler_y = StandardScaler()       # Tạo bộ chuẩn hóa cho y (output)\n",
        "\n",
        "X_train_scaled = scaler_X.fit_transform(X_train)  # Chuẩn hóa tập train đầu vào\n",
        "X_test_scaled = scaler_X.transform(X_test)        # Áp dụng chuẩn hóa cho tập test\n",
        "\n",
        "y_train_scaled = scaler_y.fit_transform(y_train)  # Chuẩn hóa tập train đầu ra\n",
        "y_test_scaled = scaler_y.transform(y_test)        # Áp dụng chuẩn hóa cho tập test\n",
        "\n",
        "print(\"Dữ liệu đầu vào để huấn luyện sau khi chuẩn hóa:\\n \",X_train_scaled)\n",
        "print(\"Dữ liệu đầu vào để kiểm tra sau khi chuẩn hóa:\\n \",X_test_scaled)\n",
        "print(\"Dữ liệu đầu vào để huấn luyện sau khi chuẩn hóa:\\n \",y_train_scaled)\n",
        "print(\"Dữ liệu đầu vào để kiểm tra sau khi chuẩn hóa:\\n \",y_test_scaled)"
      ],
      "metadata": {
        "colab": {
          "base_uri": "https://localhost:8080/"
        },
        "id": "HuRL8hfpMoSZ",
        "outputId": "96fceabc-78cf-4809-a806-0a84ef5db854"
      },
      "execution_count": null,
      "outputs": [
        {
          "output_type": "stream",
          "name": "stdout",
          "text": [
            "Dữ liệu đầu vào để huấn luyện sau khi chuẩn hóa:\n",
            "  [[ 0.96217441  1.01737782 -0.5138317 ]\n",
            " [-1.12847616 -0.59253873 -0.47696486]\n",
            " [ 0.58205612  1.17999566  0.86867512]\n",
            " [ 0.39199698 -0.5274916  -0.56913198]\n",
            " [ 0.96217441  1.42392241  0.0944713 ]\n",
            " [-1.12847616 -1.25927185 -0.79033307]\n",
            " [-1.69865359 -1.42188969 -0.32949746]\n",
            " [ 0.39199698 -0.59253873  0.61060718]\n",
            " [ 1.3422927   1.84672878  3.35718742]\n",
            " [-1.50859445 -0.44618268 -0.45853143]\n",
            " [ 0.58205612  0.28559757 -0.18203007]\n",
            " [ 0.77211527  1.26130457  0.68434088]\n",
            " [-0.74835787 -0.20225593 -0.5138317 ]\n",
            " [ 1.3422927  -0.28356485 -0.55069855]\n",
            " [-0.74835787 -1.09665402 -0.67973252]\n",
            " [-0.36823959 -0.59253873 -0.55069855]]\n",
            "Dữ liệu đầu vào để kiểm tra sau khi chuẩn hóa:\n",
            "  [[-0.93841702  0.39943005 -0.14516322]\n",
            " [ 0.20193784  1.50523133  0.22350527]\n",
            " [ 0.39199698  1.17999566  0.96084225]\n",
            " [-1.50859445 -0.44618268 -0.14516322]]\n",
            "Dữ liệu đầu vào để huấn luyện sau khi chuẩn hóa:\n",
            "  [[-0.04193978 -1.31260255  2.34584539]\n",
            " [ 0.19489664  0.18751465 -0.08438293]\n",
            " [-0.43666715 -0.71255567 -0.62443367]\n",
            " [-0.59455809 -0.11250879  0.72569318]\n",
            " [-0.83139451 -0.71255567 -0.3544083 ]\n",
            " [-0.04193978  0.48753809 -0.3544083 ]\n",
            " [ 2.76062451  3.18774905 -0.89445903]\n",
            " [ 0.62909674  0.78756153  0.18564244]\n",
            " [-0.91033999 -0.71255567 -0.08438293]\n",
            " [-1.54190377 -0.71255567  1.53576929]\n",
            " [ 0.47120579 -0.11250879 -1.43450977]\n",
            " [-0.91033999 -0.41253223  0.99571855]\n",
            " [-0.39719441 -0.41253223  0.45566781]\n",
            " [-0.31824894 -0.41253223 -0.89445903]\n",
            " [ 0.62909674  0.18751465 -1.43450977]\n",
            " [ 1.339606    0.78756153 -0.08438293]]\n",
            "Dữ liệu đầu vào để kiểm tra sau khi chuẩn hóa:\n",
            "  [[ 0.55015127  0.18751465 -0.89445903]\n",
            " [-0.79192178 -1.01257911 -0.62443367]\n",
            " [ 0.98435137  0.48753809  0.72569318]\n",
            " [ 0.47120579  0.48753809 -0.62443367]]\n"
          ]
        }
      ]
    },
    {
      "cell_type": "markdown",
      "source": [
        "###3.Huấn luyện mô hình"
      ],
      "metadata": {
        "id": "ej4ixVcDIvb3"
      }
    },
    {
      "cell_type": "markdown",
      "source": [
        "3.1. Khởi tạo mô hình:\n"
      ],
      "metadata": {
        "id": "6TA65bBCT-AR"
      }
    },
    {
      "cell_type": "code",
      "source": [
        "from sklearn.neighbors import KNeighborsRegressor\n",
        "\n",
        "model = KNeighborsRegressor(n_neighbors=3)\n"
      ],
      "metadata": {
        "id": "xQVpS9LPUBPq"
      },
      "execution_count": null,
      "outputs": []
    },
    {
      "cell_type": "markdown",
      "source": [
        "+ KNeighborsRegressor: là mô hình hồi quy dựa trên thuật toán láng giềng gần nhất.\n",
        "\n",
        "+ n_neighbors=3: tham số k được chọn là 3, tức mô hình sẽ dựa vào 3 mẫu gần nhất (gần theo khoảng cách Euclidean trong không gian đặc trưng đã chuẩn hóa) để đưa ra dự đoán."
      ],
      "metadata": {
        "id": "kkdvKROFUEso"
      }
    },
    {
      "cell_type": "markdown",
      "source": [
        "3.2. Huấn luyện mô hình với dữ liệu chuẩn hóa:"
      ],
      "metadata": {
        "id": "7aSxUNDUUTQT"
      }
    },
    {
      "cell_type": "code",
      "source": [
        "model.fit(X_train_scaled, y_train_scaled)\n"
      ],
      "metadata": {
        "colab": {
          "base_uri": "https://localhost:8080/",
          "height": 80
        },
        "id": "njyUDSZeUVs7",
        "outputId": "1baca818-fbe2-4703-ae46-619b99bcba7b"
      },
      "execution_count": null,
      "outputs": [
        {
          "output_type": "execute_result",
          "data": {
            "text/plain": [
              "KNeighborsRegressor(n_neighbors=3)"
            ],
            "text/html": [
              "<style>#sk-container-id-1 {\n",
              "  /* Definition of color scheme common for light and dark mode */\n",
              "  --sklearn-color-text: #000;\n",
              "  --sklearn-color-text-muted: #666;\n",
              "  --sklearn-color-line: gray;\n",
              "  /* Definition of color scheme for unfitted estimators */\n",
              "  --sklearn-color-unfitted-level-0: #fff5e6;\n",
              "  --sklearn-color-unfitted-level-1: #f6e4d2;\n",
              "  --sklearn-color-unfitted-level-2: #ffe0b3;\n",
              "  --sklearn-color-unfitted-level-3: chocolate;\n",
              "  /* Definition of color scheme for fitted estimators */\n",
              "  --sklearn-color-fitted-level-0: #f0f8ff;\n",
              "  --sklearn-color-fitted-level-1: #d4ebff;\n",
              "  --sklearn-color-fitted-level-2: #b3dbfd;\n",
              "  --sklearn-color-fitted-level-3: cornflowerblue;\n",
              "\n",
              "  /* Specific color for light theme */\n",
              "  --sklearn-color-text-on-default-background: var(--sg-text-color, var(--theme-code-foreground, var(--jp-content-font-color1, black)));\n",
              "  --sklearn-color-background: var(--sg-background-color, var(--theme-background, var(--jp-layout-color0, white)));\n",
              "  --sklearn-color-border-box: var(--sg-text-color, var(--theme-code-foreground, var(--jp-content-font-color1, black)));\n",
              "  --sklearn-color-icon: #696969;\n",
              "\n",
              "  @media (prefers-color-scheme: dark) {\n",
              "    /* Redefinition of color scheme for dark theme */\n",
              "    --sklearn-color-text-on-default-background: var(--sg-text-color, var(--theme-code-foreground, var(--jp-content-font-color1, white)));\n",
              "    --sklearn-color-background: var(--sg-background-color, var(--theme-background, var(--jp-layout-color0, #111)));\n",
              "    --sklearn-color-border-box: var(--sg-text-color, var(--theme-code-foreground, var(--jp-content-font-color1, white)));\n",
              "    --sklearn-color-icon: #878787;\n",
              "  }\n",
              "}\n",
              "\n",
              "#sk-container-id-1 {\n",
              "  color: var(--sklearn-color-text);\n",
              "}\n",
              "\n",
              "#sk-container-id-1 pre {\n",
              "  padding: 0;\n",
              "}\n",
              "\n",
              "#sk-container-id-1 input.sk-hidden--visually {\n",
              "  border: 0;\n",
              "  clip: rect(1px 1px 1px 1px);\n",
              "  clip: rect(1px, 1px, 1px, 1px);\n",
              "  height: 1px;\n",
              "  margin: -1px;\n",
              "  overflow: hidden;\n",
              "  padding: 0;\n",
              "  position: absolute;\n",
              "  width: 1px;\n",
              "}\n",
              "\n",
              "#sk-container-id-1 div.sk-dashed-wrapped {\n",
              "  border: 1px dashed var(--sklearn-color-line);\n",
              "  margin: 0 0.4em 0.5em 0.4em;\n",
              "  box-sizing: border-box;\n",
              "  padding-bottom: 0.4em;\n",
              "  background-color: var(--sklearn-color-background);\n",
              "}\n",
              "\n",
              "#sk-container-id-1 div.sk-container {\n",
              "  /* jupyter's `normalize.less` sets `[hidden] { display: none; }`\n",
              "     but bootstrap.min.css set `[hidden] { display: none !important; }`\n",
              "     so we also need the `!important` here to be able to override the\n",
              "     default hidden behavior on the sphinx rendered scikit-learn.org.\n",
              "     See: https://github.com/scikit-learn/scikit-learn/issues/21755 */\n",
              "  display: inline-block !important;\n",
              "  position: relative;\n",
              "}\n",
              "\n",
              "#sk-container-id-1 div.sk-text-repr-fallback {\n",
              "  display: none;\n",
              "}\n",
              "\n",
              "div.sk-parallel-item,\n",
              "div.sk-serial,\n",
              "div.sk-item {\n",
              "  /* draw centered vertical line to link estimators */\n",
              "  background-image: linear-gradient(var(--sklearn-color-text-on-default-background), var(--sklearn-color-text-on-default-background));\n",
              "  background-size: 2px 100%;\n",
              "  background-repeat: no-repeat;\n",
              "  background-position: center center;\n",
              "}\n",
              "\n",
              "/* Parallel-specific style estimator block */\n",
              "\n",
              "#sk-container-id-1 div.sk-parallel-item::after {\n",
              "  content: \"\";\n",
              "  width: 100%;\n",
              "  border-bottom: 2px solid var(--sklearn-color-text-on-default-background);\n",
              "  flex-grow: 1;\n",
              "}\n",
              "\n",
              "#sk-container-id-1 div.sk-parallel {\n",
              "  display: flex;\n",
              "  align-items: stretch;\n",
              "  justify-content: center;\n",
              "  background-color: var(--sklearn-color-background);\n",
              "  position: relative;\n",
              "}\n",
              "\n",
              "#sk-container-id-1 div.sk-parallel-item {\n",
              "  display: flex;\n",
              "  flex-direction: column;\n",
              "}\n",
              "\n",
              "#sk-container-id-1 div.sk-parallel-item:first-child::after {\n",
              "  align-self: flex-end;\n",
              "  width: 50%;\n",
              "}\n",
              "\n",
              "#sk-container-id-1 div.sk-parallel-item:last-child::after {\n",
              "  align-self: flex-start;\n",
              "  width: 50%;\n",
              "}\n",
              "\n",
              "#sk-container-id-1 div.sk-parallel-item:only-child::after {\n",
              "  width: 0;\n",
              "}\n",
              "\n",
              "/* Serial-specific style estimator block */\n",
              "\n",
              "#sk-container-id-1 div.sk-serial {\n",
              "  display: flex;\n",
              "  flex-direction: column;\n",
              "  align-items: center;\n",
              "  background-color: var(--sklearn-color-background);\n",
              "  padding-right: 1em;\n",
              "  padding-left: 1em;\n",
              "}\n",
              "\n",
              "\n",
              "/* Toggleable style: style used for estimator/Pipeline/ColumnTransformer box that is\n",
              "clickable and can be expanded/collapsed.\n",
              "- Pipeline and ColumnTransformer use this feature and define the default style\n",
              "- Estimators will overwrite some part of the style using the `sk-estimator` class\n",
              "*/\n",
              "\n",
              "/* Pipeline and ColumnTransformer style (default) */\n",
              "\n",
              "#sk-container-id-1 div.sk-toggleable {\n",
              "  /* Default theme specific background. It is overwritten whether we have a\n",
              "  specific estimator or a Pipeline/ColumnTransformer */\n",
              "  background-color: var(--sklearn-color-background);\n",
              "}\n",
              "\n",
              "/* Toggleable label */\n",
              "#sk-container-id-1 label.sk-toggleable__label {\n",
              "  cursor: pointer;\n",
              "  display: flex;\n",
              "  width: 100%;\n",
              "  margin-bottom: 0;\n",
              "  padding: 0.5em;\n",
              "  box-sizing: border-box;\n",
              "  text-align: center;\n",
              "  align-items: start;\n",
              "  justify-content: space-between;\n",
              "  gap: 0.5em;\n",
              "}\n",
              "\n",
              "#sk-container-id-1 label.sk-toggleable__label .caption {\n",
              "  font-size: 0.6rem;\n",
              "  font-weight: lighter;\n",
              "  color: var(--sklearn-color-text-muted);\n",
              "}\n",
              "\n",
              "#sk-container-id-1 label.sk-toggleable__label-arrow:before {\n",
              "  /* Arrow on the left of the label */\n",
              "  content: \"▸\";\n",
              "  float: left;\n",
              "  margin-right: 0.25em;\n",
              "  color: var(--sklearn-color-icon);\n",
              "}\n",
              "\n",
              "#sk-container-id-1 label.sk-toggleable__label-arrow:hover:before {\n",
              "  color: var(--sklearn-color-text);\n",
              "}\n",
              "\n",
              "/* Toggleable content - dropdown */\n",
              "\n",
              "#sk-container-id-1 div.sk-toggleable__content {\n",
              "  max-height: 0;\n",
              "  max-width: 0;\n",
              "  overflow: hidden;\n",
              "  text-align: left;\n",
              "  /* unfitted */\n",
              "  background-color: var(--sklearn-color-unfitted-level-0);\n",
              "}\n",
              "\n",
              "#sk-container-id-1 div.sk-toggleable__content.fitted {\n",
              "  /* fitted */\n",
              "  background-color: var(--sklearn-color-fitted-level-0);\n",
              "}\n",
              "\n",
              "#sk-container-id-1 div.sk-toggleable__content pre {\n",
              "  margin: 0.2em;\n",
              "  border-radius: 0.25em;\n",
              "  color: var(--sklearn-color-text);\n",
              "  /* unfitted */\n",
              "  background-color: var(--sklearn-color-unfitted-level-0);\n",
              "}\n",
              "\n",
              "#sk-container-id-1 div.sk-toggleable__content.fitted pre {\n",
              "  /* unfitted */\n",
              "  background-color: var(--sklearn-color-fitted-level-0);\n",
              "}\n",
              "\n",
              "#sk-container-id-1 input.sk-toggleable__control:checked~div.sk-toggleable__content {\n",
              "  /* Expand drop-down */\n",
              "  max-height: 200px;\n",
              "  max-width: 100%;\n",
              "  overflow: auto;\n",
              "}\n",
              "\n",
              "#sk-container-id-1 input.sk-toggleable__control:checked~label.sk-toggleable__label-arrow:before {\n",
              "  content: \"▾\";\n",
              "}\n",
              "\n",
              "/* Pipeline/ColumnTransformer-specific style */\n",
              "\n",
              "#sk-container-id-1 div.sk-label input.sk-toggleable__control:checked~label.sk-toggleable__label {\n",
              "  color: var(--sklearn-color-text);\n",
              "  background-color: var(--sklearn-color-unfitted-level-2);\n",
              "}\n",
              "\n",
              "#sk-container-id-1 div.sk-label.fitted input.sk-toggleable__control:checked~label.sk-toggleable__label {\n",
              "  background-color: var(--sklearn-color-fitted-level-2);\n",
              "}\n",
              "\n",
              "/* Estimator-specific style */\n",
              "\n",
              "/* Colorize estimator box */\n",
              "#sk-container-id-1 div.sk-estimator input.sk-toggleable__control:checked~label.sk-toggleable__label {\n",
              "  /* unfitted */\n",
              "  background-color: var(--sklearn-color-unfitted-level-2);\n",
              "}\n",
              "\n",
              "#sk-container-id-1 div.sk-estimator.fitted input.sk-toggleable__control:checked~label.sk-toggleable__label {\n",
              "  /* fitted */\n",
              "  background-color: var(--sklearn-color-fitted-level-2);\n",
              "}\n",
              "\n",
              "#sk-container-id-1 div.sk-label label.sk-toggleable__label,\n",
              "#sk-container-id-1 div.sk-label label {\n",
              "  /* The background is the default theme color */\n",
              "  color: var(--sklearn-color-text-on-default-background);\n",
              "}\n",
              "\n",
              "/* On hover, darken the color of the background */\n",
              "#sk-container-id-1 div.sk-label:hover label.sk-toggleable__label {\n",
              "  color: var(--sklearn-color-text);\n",
              "  background-color: var(--sklearn-color-unfitted-level-2);\n",
              "}\n",
              "\n",
              "/* Label box, darken color on hover, fitted */\n",
              "#sk-container-id-1 div.sk-label.fitted:hover label.sk-toggleable__label.fitted {\n",
              "  color: var(--sklearn-color-text);\n",
              "  background-color: var(--sklearn-color-fitted-level-2);\n",
              "}\n",
              "\n",
              "/* Estimator label */\n",
              "\n",
              "#sk-container-id-1 div.sk-label label {\n",
              "  font-family: monospace;\n",
              "  font-weight: bold;\n",
              "  display: inline-block;\n",
              "  line-height: 1.2em;\n",
              "}\n",
              "\n",
              "#sk-container-id-1 div.sk-label-container {\n",
              "  text-align: center;\n",
              "}\n",
              "\n",
              "/* Estimator-specific */\n",
              "#sk-container-id-1 div.sk-estimator {\n",
              "  font-family: monospace;\n",
              "  border: 1px dotted var(--sklearn-color-border-box);\n",
              "  border-radius: 0.25em;\n",
              "  box-sizing: border-box;\n",
              "  margin-bottom: 0.5em;\n",
              "  /* unfitted */\n",
              "  background-color: var(--sklearn-color-unfitted-level-0);\n",
              "}\n",
              "\n",
              "#sk-container-id-1 div.sk-estimator.fitted {\n",
              "  /* fitted */\n",
              "  background-color: var(--sklearn-color-fitted-level-0);\n",
              "}\n",
              "\n",
              "/* on hover */\n",
              "#sk-container-id-1 div.sk-estimator:hover {\n",
              "  /* unfitted */\n",
              "  background-color: var(--sklearn-color-unfitted-level-2);\n",
              "}\n",
              "\n",
              "#sk-container-id-1 div.sk-estimator.fitted:hover {\n",
              "  /* fitted */\n",
              "  background-color: var(--sklearn-color-fitted-level-2);\n",
              "}\n",
              "\n",
              "/* Specification for estimator info (e.g. \"i\" and \"?\") */\n",
              "\n",
              "/* Common style for \"i\" and \"?\" */\n",
              "\n",
              ".sk-estimator-doc-link,\n",
              "a:link.sk-estimator-doc-link,\n",
              "a:visited.sk-estimator-doc-link {\n",
              "  float: right;\n",
              "  font-size: smaller;\n",
              "  line-height: 1em;\n",
              "  font-family: monospace;\n",
              "  background-color: var(--sklearn-color-background);\n",
              "  border-radius: 1em;\n",
              "  height: 1em;\n",
              "  width: 1em;\n",
              "  text-decoration: none !important;\n",
              "  margin-left: 0.5em;\n",
              "  text-align: center;\n",
              "  /* unfitted */\n",
              "  border: var(--sklearn-color-unfitted-level-1) 1pt solid;\n",
              "  color: var(--sklearn-color-unfitted-level-1);\n",
              "}\n",
              "\n",
              ".sk-estimator-doc-link.fitted,\n",
              "a:link.sk-estimator-doc-link.fitted,\n",
              "a:visited.sk-estimator-doc-link.fitted {\n",
              "  /* fitted */\n",
              "  border: var(--sklearn-color-fitted-level-1) 1pt solid;\n",
              "  color: var(--sklearn-color-fitted-level-1);\n",
              "}\n",
              "\n",
              "/* On hover */\n",
              "div.sk-estimator:hover .sk-estimator-doc-link:hover,\n",
              ".sk-estimator-doc-link:hover,\n",
              "div.sk-label-container:hover .sk-estimator-doc-link:hover,\n",
              ".sk-estimator-doc-link:hover {\n",
              "  /* unfitted */\n",
              "  background-color: var(--sklearn-color-unfitted-level-3);\n",
              "  color: var(--sklearn-color-background);\n",
              "  text-decoration: none;\n",
              "}\n",
              "\n",
              "div.sk-estimator.fitted:hover .sk-estimator-doc-link.fitted:hover,\n",
              ".sk-estimator-doc-link.fitted:hover,\n",
              "div.sk-label-container:hover .sk-estimator-doc-link.fitted:hover,\n",
              ".sk-estimator-doc-link.fitted:hover {\n",
              "  /* fitted */\n",
              "  background-color: var(--sklearn-color-fitted-level-3);\n",
              "  color: var(--sklearn-color-background);\n",
              "  text-decoration: none;\n",
              "}\n",
              "\n",
              "/* Span, style for the box shown on hovering the info icon */\n",
              ".sk-estimator-doc-link span {\n",
              "  display: none;\n",
              "  z-index: 9999;\n",
              "  position: relative;\n",
              "  font-weight: normal;\n",
              "  right: .2ex;\n",
              "  padding: .5ex;\n",
              "  margin: .5ex;\n",
              "  width: min-content;\n",
              "  min-width: 20ex;\n",
              "  max-width: 50ex;\n",
              "  color: var(--sklearn-color-text);\n",
              "  box-shadow: 2pt 2pt 4pt #999;\n",
              "  /* unfitted */\n",
              "  background: var(--sklearn-color-unfitted-level-0);\n",
              "  border: .5pt solid var(--sklearn-color-unfitted-level-3);\n",
              "}\n",
              "\n",
              ".sk-estimator-doc-link.fitted span {\n",
              "  /* fitted */\n",
              "  background: var(--sklearn-color-fitted-level-0);\n",
              "  border: var(--sklearn-color-fitted-level-3);\n",
              "}\n",
              "\n",
              ".sk-estimator-doc-link:hover span {\n",
              "  display: block;\n",
              "}\n",
              "\n",
              "/* \"?\"-specific style due to the `<a>` HTML tag */\n",
              "\n",
              "#sk-container-id-1 a.estimator_doc_link {\n",
              "  float: right;\n",
              "  font-size: 1rem;\n",
              "  line-height: 1em;\n",
              "  font-family: monospace;\n",
              "  background-color: var(--sklearn-color-background);\n",
              "  border-radius: 1rem;\n",
              "  height: 1rem;\n",
              "  width: 1rem;\n",
              "  text-decoration: none;\n",
              "  /* unfitted */\n",
              "  color: var(--sklearn-color-unfitted-level-1);\n",
              "  border: var(--sklearn-color-unfitted-level-1) 1pt solid;\n",
              "}\n",
              "\n",
              "#sk-container-id-1 a.estimator_doc_link.fitted {\n",
              "  /* fitted */\n",
              "  border: var(--sklearn-color-fitted-level-1) 1pt solid;\n",
              "  color: var(--sklearn-color-fitted-level-1);\n",
              "}\n",
              "\n",
              "/* On hover */\n",
              "#sk-container-id-1 a.estimator_doc_link:hover {\n",
              "  /* unfitted */\n",
              "  background-color: var(--sklearn-color-unfitted-level-3);\n",
              "  color: var(--sklearn-color-background);\n",
              "  text-decoration: none;\n",
              "}\n",
              "\n",
              "#sk-container-id-1 a.estimator_doc_link.fitted:hover {\n",
              "  /* fitted */\n",
              "  background-color: var(--sklearn-color-fitted-level-3);\n",
              "}\n",
              "</style><div id=\"sk-container-id-1\" class=\"sk-top-container\"><div class=\"sk-text-repr-fallback\"><pre>KNeighborsRegressor(n_neighbors=3)</pre><b>In a Jupyter environment, please rerun this cell to show the HTML representation or trust the notebook. <br />On GitHub, the HTML representation is unable to render, please try loading this page with nbviewer.org.</b></div><div class=\"sk-container\" hidden><div class=\"sk-item\"><div class=\"sk-estimator fitted sk-toggleable\"><input class=\"sk-toggleable__control sk-hidden--visually\" id=\"sk-estimator-id-1\" type=\"checkbox\" checked><label for=\"sk-estimator-id-1\" class=\"sk-toggleable__label fitted sk-toggleable__label-arrow\"><div><div>KNeighborsRegressor</div></div><div><a class=\"sk-estimator-doc-link fitted\" rel=\"noreferrer\" target=\"_blank\" href=\"https://scikit-learn.org/1.6/modules/generated/sklearn.neighbors.KNeighborsRegressor.html\">?<span>Documentation for KNeighborsRegressor</span></a><span class=\"sk-estimator-doc-link fitted\">i<span>Fitted</span></span></div></label><div class=\"sk-toggleable__content fitted\"><pre>KNeighborsRegressor(n_neighbors=3)</pre></div> </div></div></div></div>"
            ]
          },
          "metadata": {},
          "execution_count": 21
        }
      ]
    },
    {
      "cell_type": "markdown",
      "source": [
        "+ .fit(): huấn luyện mô hình bằng cách lưu lại toàn bộ dữ liệu huấn luyện (vì KNN không học theo kiểu truyền thống mà chỉ ghi nhớ).\n",
        "\n",
        "+ X_train_scaled, y_train_scaled: là dữ liệu đầu vào và đầu ra đã được chuẩn hóa từ bước trước.\n",
        "\n",
        "+ Lưu ý: KNN không tạo ra một hàm học cụ thể, mà khi cần dự đoán, nó tìm k điểm gần nhất và tính trung bình kết quả."
      ],
      "metadata": {
        "id": "Eaq67l2AUfZV"
      }
    },
    {
      "cell_type": "markdown",
      "source": [
        "3.3.Dự đoán với tập kiểm tra"
      ],
      "metadata": {
        "id": "Gm9fGL4GYNbm"
      }
    },
    {
      "cell_type": "code",
      "source": [
        "# Dự đoán trên tập kiểm tra\n",
        "y_pred_scaled = model.predict(X_test_scaled)\n",
        "\n",
        "# Đưa kết quả dự đoán về dạng ban đầu (bỏ chuẩn hóa)\n",
        "y_pred = scaler_y.inverse_transform(y_pred_scaled)\n",
        "y_test_original = scaler_y.inverse_transform(y_test_scaled)\n",
        "print(\"Kết quả dự đoán cuối cùng:\\nWeight, Waist, Pulse\\n \", y_pred)\n",
        "print(\"Kết quả thực tế (không chuẩn hóa) để so sánh:\\nWeight, Waist, Pulse\\n \", y_test_original)"
      ],
      "metadata": {
        "colab": {
          "base_uri": "https://localhost:8080/"
        },
        "id": "2jol-t-NYWFc",
        "outputId": "b499b258-cde9-4442-d94a-f203fb573ae1"
      },
      "execution_count": null,
      "outputs": [
        {
          "output_type": "stream",
          "name": "stdout",
          "text": [
            "Kết quả dự đoán cuối cùng:\n",
            "Weight, Waist, Pulse\n",
            "  [[162.33333333  34.33333333  61.33333333]\n",
            " [158.66666667  33.33333333  56.66666667]\n",
            " [158.66666667  33.33333333  56.66666667]\n",
            " [162.33333333  34.33333333  61.33333333]]\n",
            "Kết quả thực tế (không chuẩn hóa) để so sánh:\n",
            "Weight, Waist, Pulse\n",
            "  [[191.  36.  50.]\n",
            " [157.  32.  52.]\n",
            " [202.  37.  62.]\n",
            " [189.  37.  52.]]\n"
          ]
        }
      ]
    },
    {
      "cell_type": "markdown",
      "source": [
        "→ Dự đoán gần đúng nhưng không khớp hoàn toàn, vì:\n",
        "\n",
        "+ Những người được dùng để dự đoán không hoàn toàn giống mẫu test\n",
        "\n",
        "+ Kết quả là trung bình, nên sẽ bị \"mềm hóa\", không khớp tuyệt đối"
      ],
      "metadata": {
        "id": "G0rhOjfAaPDN"
      }
    },
    {
      "cell_type": "markdown",
      "source": [
        "3.4. Nhận xét"
      ],
      "metadata": {
        "id": "Ae-eYOZNUmLm"
      }
    },
    {
      "cell_type": "markdown",
      "source": [
        "+ Việc huấn luyện với KNN diễn ra rất nhanh vì không có quá trình huấn luyện phức tạp, chủ yếu tốn thời gian ở bước dự đoán.\n",
        "\n",
        "+ Việc lựa chọn k = 3 là tùy chọn ban đầu. Ta có thể điều chỉnh lại k để tìm giá trị tối ưu hơn (tùy thuộc vào kết quả kiểm tra ở phần sau)."
      ],
      "metadata": {
        "id": "UYIsuuL8Uqv-"
      }
    },
    {
      "cell_type": "markdown",
      "source": [
        "###4.Đánh giá mô hình"
      ],
      "metadata": {
        "id": "ZhMVErJ0IyfQ"
      }
    },
    {
      "cell_type": "markdown",
      "source": [
        "4.1 Trình bày kết quả đánh giá trên tập kiểm tra bằng các chỉ số:\n",
        "\n",
        "+ Vì đây là bài toán hồi quy, ta dùng các chỉ số đánh giá sau:\n",
        "\n",
        "+ Mean Absolute Error (MAE): Sai số tuyệt đối trung bình\n",
        "\n",
        "+ Mean Squared Error (MSE): Trung bình bình phương sai số\n",
        "\n",
        "+ Root Mean Squared Error (RMSE): Căn bậc hai của MSE\n",
        "\n",
        "+ R² Score (Coefficient of Determination): Mức độ mô hình giải thích được biến đầu ra (1 là tốt nhất)\n",
        "\n",
        "Mã nguồn tính các chỉ số:\n"
      ],
      "metadata": {
        "id": "vWGoHCDfeTBy"
      }
    },
    {
      "cell_type": "code",
      "source": [
        "from sklearn.metrics import mean_absolute_error, mean_squared_error, r2_score\n",
        "import numpy as np\n",
        "\n",
        "# Tính các chỉ số đánh giá\n",
        "mae = mean_absolute_error(y_test_original, y_pred)\n",
        "mse = mean_squared_error(y_test_original, y_pred)\n",
        "rmse = np.sqrt(mse)\n",
        "r2 = r2_score(y_test_original, y_pred)\n",
        "\n",
        "# In ra kết quả\n",
        "print(\"📊 Đánh giá mô hình:\")\n",
        "print(f\"- MAE  : {mae:.2f}\")\n",
        "print(f\"- MSE  : {mse:.2f}\")\n",
        "print(f\"- RMSE : {rmse:.2f}\")\n",
        "print(f\"- R²   : {r2:.2f}\")\n"
      ],
      "metadata": {
        "colab": {
          "base_uri": "https://localhost:8080/"
        },
        "id": "vLyAwHeYfUDB",
        "outputId": "e73b61eb-ae2c-4dd9-a492-45208209b504"
      },
      "execution_count": null,
      "outputs": [
        {
          "output_type": "stream",
          "name": "stdout",
          "text": [
            "📊 Đánh giá mô hình:\n",
            "- MAE  : 11.69\n",
            "- MSE  : 308.69\n",
            "- RMSE : 17.57\n",
            "- R²   : -1.51\n"
          ]
        }
      ]
    },
    {
      "cell_type": "markdown",
      "source": [
        "Nhận xét:\n",
        "\n",
        "+ Sai số dự đoán khá lớn với MAE = 11.69 và RMSE = 17.57, cho thấy khoảng cách giữa dự đoán và thực tế còn cao.\n",
        "\n",
        "+ Chỉ số R² = -1.51 là dấu hiệu rõ ràng cho thấy mô hình đang dự đoán kém hơn cả một mô hình đoán trung bình."
      ],
      "metadata": {
        "id": "wA8EG-vMgoit"
      }
    },
    {
      "cell_type": "markdown",
      "source": [
        "4.2 Trực quan hóa kết quả đánh giá:\n",
        "\n",
        "Hiển thị biểu đồ so sánh giá trị thực và giá trị dự đoán:"
      ],
      "metadata": {
        "id": "T8FnRcXSfYzK"
      }
    },
    {
      "cell_type": "code",
      "source": [
        "import matplotlib.pyplot as plt\n",
        "\n",
        "# Vẽ biểu đồ cho từng đặc trưng đầu ra\n",
        "feature_names = ['Chỉ số 1 (Weight)', 'Chỉ số 2 (Waist)', 'Chỉ số 3 (Pulse)']\n",
        "\n",
        "for i in range(3):\n",
        "    plt.figure(figsize=(6, 4))\n",
        "    plt.plot(y_test_original[:, i], label='Thực tế', marker='o')\n",
        "    plt.plot(y_pred[:, i], label='Dự đoán', marker='x')\n",
        "    plt.title(f\"So sánh kết quả: {feature_names[i]}\")\n",
        "    plt.xlabel(\"Mẫu\")\n",
        "    plt.ylabel(\"Giá trị\")\n",
        "    plt.legend()\n",
        "    plt.grid(True)\n",
        "    plt.tight_layout()\n",
        "    plt.show()"
      ],
      "metadata": {
        "colab": {
          "base_uri": "https://localhost:8080/",
          "height": 1000
        },
        "id": "b4ELZl5dffai",
        "outputId": "53cb3d60-ca96-4155-b4f5-ce3a0f3daa82"
      },
      "execution_count": null,
      "outputs": [
        {
          "output_type": "display_data",
          "data": {
            "text/plain": [
              "<Figure size 600x400 with 1 Axes>"
            ],
            "image/png": "[encoded data removed]"
          },
          "metadata": {}
        },
        {
          "output_type": "display_data",
          "data": {
            "text/plain": [
              "<Figure size 600x400 with 1 Axes>"
            ],
            "image/png": "[encoded data removed]"
          },
          "metadata": {}
        },
        {
          "output_type": "display_data",
          "data": {
            "text/plain": [
              "<Figure size 600x400 with 1 Axes>"
            ],
            "image/png": "[encoded data removed]"
          },
          "metadata": {}
        }
      ]
    },
    {
      "cell_type": "markdown",
      "source": [
        "Nhận xét:\n",
        "\n",
        "+ Biểu đồ Chỉ số 1 (Weight – Trọng lượng):\n",
        "\n",
        " + Đường thực tế dao động mạnh, thể hiện sự khác biệt lớn giữa các mẫu.\n",
        "\n",
        " + Đường dự đoán lại khá phẳng, gần như không thay đổi → mô hình không phản ứng tốt với sự thay đổi của dữ liệu.\n",
        "\n",
        " + Khoảng cách giữa thực tế và dự đoán là đáng kể, đặc biệt ở các mẫu 0, 2, 3.\n",
        "\n",
        "+ Biểu đồ Chỉ số 2 (Waist – Vòng eo):\n",
        "\n",
        " + Mặc dù sai số nhỏ hơn trọng lượng, nhưng vẫn thấy rõ đường dự đoán \"mềm hơn\", ít dao động hơn thực tế.\n",
        "\n",
        " + Tại mẫu 2 và 3, mô hình dự đoán thấp hơn thực tế rõ rệt, chứng tỏ mô hình chưa học được quy luật đủ tốt.\n",
        "+ Biểu đồ Chỉ số 3 (Pulse - Nhịp tim):\n",
        "\n",
        " + Đường màu xanh (giá trị thực tế) biến động mạnh giữa các mẫu.\n",
        "\n",
        " + Đường màu cam (giá trị dự đoán) lại khá ổn định và bằng phẳng, chỉ dao động nhẹ quanh mức 56–62.\n",
        "\n"
      ],
      "metadata": {
        "id": "uAfc3eRdg8Ew"
      }
    },
    {
      "cell_type": "markdown",
      "source": [
        "###5.So sánh và kết luận"
      ],
      "metadata": {
        "id": "7OaRUbciI4jw"
      }
    },
    {
      "cell_type": "markdown",
      "source": [
        "5.1 So sánh giữa kết quả dự đoán và thực tế\n",
        "\n",
        "+ Sau khi huấn luyện mô hình KNN và thực hiện dự đoán trên tập kiểm tra, ta tiến hành so sánh giữa kết quả dự đoán và thực tế để đánh giá độ chính xác.\n",
        "\n",
        "+ Ưu điểm:\n",
        " + Mô hình có khả năng dự đoán gần đúng giá trị trung bình của các chỉ số.\n",
        "\n",
        " + Giá trị dự đoán không quá lệch so với thực tế ở một số mẫu.\n",
        "\n",
        "+ Hạn chế:\n",
        "\n",
        " + Chênh lệch rõ rệt giữa dự đoán và thực tế, nhất là ở chỉ số Weight và Pulse.\n",
        "\n",
        " + Mô hình ít phản ứng với sự thay đổi lớn trong dữ liệu, dẫn đến xu hướng dự đoán bị \"làm phẳng\" hoặc trung bình hóa.\n",
        "\n",
        " + Giá trị dự đoán không thể hiện rõ xu hướng lên – xuống của dữ liệu thật.\n",
        "\n",
        "5.2 Đánh giá chất lượng mô hình qua các chỉ số:\n",
        "\n",
        "+ Chỉ số\tGiá trị\n",
        "\n",
        " + MAE (Mean Absolute Error)\t11.69\n",
        "\n",
        " + MSE (Mean Squared Error)\t308.69\n",
        "\n",
        " + RMSE (Root Mean Squared Error)\t17.57\n",
        "\n",
        " + R² (Hệ số xác định)\t-1.51\n",
        "\n",
        "+ Giải thích nhanh:\n",
        "\n",
        " + MAE, MSE, RMSE đều khá lớn → Sai số dự đoán cao.\n",
        "\n",
        " + R² âm cho thấy mô hình hoạt động tệ hơn cả một mô hình dự đoán trung bình, tức là không học được mối quan hệ hiệu quả.\n",
        "\n",
        "5.3 Kết luận tổng thể\n",
        "\n",
        "+ Mô hình KNN đã được triển khai thành công để dự đoán các chỉ số sức khỏe như cân nặng, vòng eo và nhịp tim.\n",
        "\n",
        "+ Tuy nhiên, kết quả dự đoán chưa đạt chất lượng tốt, thể hiện qua:\n",
        "\n",
        " + Sai số lớn\n",
        "\n",
        " + Độ chính xác kém\n",
        "\n",
        " + Biểu đồ cho thấy xu hướng sai lệch đáng kể"
      ],
      "metadata": {
        "id": "hn9PlqTGiwYI"
      }
    },
    {
      "cell_type": "markdown",
      "source": [
        "#IV.THUẬT TOÁN Ridge Regression"
      ],
      "metadata": {
        "id": "q7VmffrNBKqL"
      }
    },
    {
      "cell_type": "markdown",
      "source": [
        "##1.Giới thiệu"
      ],
      "metadata": {
        "id": "uE4kURNbB2qg"
      }
    },
    {
      "cell_type": "markdown",
      "source": [
        "Thuật toán được chọn: Ridge Regression\n",
        "\n",
        "Mô tả ngắn về thuật toán Ridge Regression\n",
        "\n",
        "📘 Ridge Regression\n",
        "+ Là một thuật toán hồi quy tuyến tính có thêm điều kiện L2 regularization, giúp giảm overfitting bằng cách thu nhỏ các hệ số trong mô hình.\n",
        "\n",
        "+ Thuật toán này giữ lại tất cả các biến nhưng điều chỉnh trọng số của chúng sao cho mô hình ổn định hơn, đặc biệt khi có hiện tượng đa cộng tuyến.\n",
        "\n",
        "Đặc điểm của thuật toán:\n",
        "\n",
        "+ Regularization L2:Ridge Regression sử dụng điều chuẩn L2 (bình phương các hệ số) để giảm overfitting.\n",
        "\n",
        "+ Không loại bỏ biến:Các hệ số được làm nhỏ lại nhưng không bao giờ bằng 0, tức là giữ lại tất cả các đặc trưng.\n",
        "\n",
        "+ Xử lý tốt đa cộng tuyến:Rất hiệu quả khi các biến đầu vào có mối tương quan cao (multicollinearity), giúp mô hình ổn định hơn.\n",
        "\n",
        "+ Cần chuẩn hóa dữ liệu:Do mô hình phụ thuộc vào độ lớn của hệ số, cần chuẩn hóa các biến đầu vào trước khi huấn luyện.\n",
        "\n",
        "+ Thích hợp cho dữ liệu nhiều đặc trưng:Khi số lượng đặc trưng lớn hơn hoặc gần bằng số lượng mẫu, Ridge hoạt động hiệu quả.\n",
        "\n",
        "+ Điều chỉnh bằng hệ số lambda:Lambda càng lớn → mô hình càng đơn giản (hệ số càng nhỏ); Lambda nhỏ → mô hình gần với hồi quy tuyến tính thường.\n",
        "\n",
        "Lý do chọn Ridge Regression cho bài toán này:\n",
        "\n",
        "⏺ Ridge Regression\n",
        "\n",
        " + Giúp ổn định mô hình khi có hiện tượng đa cộng tuyến giữa các biến.\n",
        "\n",
        " + Giữ lại tất cả các biến trong mô hình nhưng làm giảm độ lớn của các hệ số, từ đó giảm overfitting.\n",
        "\n",
        " + Phù hợp khi tất cả các đặc trưng đều có ý nghĩa và không nên loại bỏ hoàn toàn.\n",
        "\n",
        "Mục tiêu áp dụng thuật toán:\n",
        "\n",
        "+ Xây dựng mô hình hồi quy ổn định khi có hiện tượng đa cộng tuyến giữa các biến đầu vào.\n",
        "\n",
        "+ Giảm hiện tượng overfitting bằng cách thêm điều kiện L2 regularization để thu nhỏ các hệ số hồi quy.\n",
        "\n",
        "+ Giữ lại tất cả các đặc trưng trong mô hình nhưng làm giảm ảnh hưởng của các biến không quan trọng.\n",
        "\n",
        "+ Cải thiện khả năng tổng quát (generalization) của mô hình đối với dữ liệu mới, chưa từng thấy.\n",
        "\n",
        "+ Tối ưu hóa độ chính xác dự đoán trong các bài toán hồi quy có nhiều biến liên quan chặt chẽ.\n"
      ],
      "metadata": {
        "id": "XIdxYojVGtS4"
      }
    },
    {
      "cell_type": "markdown",
      "source": [
        "##2.Chuẩn bị dữ liệu"
      ],
      "metadata": {
        "id": "Ar92b71yCDEf"
      }
    },
    {
      "cell_type": "markdown",
      "source": [
        "2.1.Cài thư viện cần thiết"
      ],
      "metadata": {
        "id": "ZZVa281uO1Nr"
      }
    },
    {
      "cell_type": "code",
      "source": [
        "from sklearn.datasets import load_linnerud\n",
        "from sklearn.model_selection import train_test_split\n",
        "from sklearn.preprocessing import StandardScaler"
      ],
      "metadata": {
        "id": "luQPwJAROwks"
      },
      "execution_count": null,
      "outputs": []
    },
    {
      "cell_type": "markdown",
      "source": [
        "Giải thích code:\n",
        "\n",
        "\"from sklearn.datasets import load_linnerud\"\n",
        "\n",
        "+ Mục đích: Tải bộ dữ liệu Linnerud – là một bộ dữ liệu hồi quy đa biến có sẵn trong thư viện scikit-learn.\n",
        "\n",
        "⏺ Linnerud dataset gồm:\n",
        "\n",
        "+ Đặc trưng (X): Các chỉ số thể chất như chiều cao, cân nặng, độ dài chân (3 biến).\n",
        "\n",
        "+ Mục tiêu (y): Kết quả thể lực như số lần gập bụng, squat, chống đẩy (3 biến mục tiêu).\n",
        "\n",
        "\"from sklearn.model_selection import train_test_split\"\n",
        "\n",
        "+ Mục đích: Dùng để chia dữ liệu thành 2 phần:\n",
        "\n",
        "+ X_train, y_train: Dùng để huấn luyện mô hình.\n",
        "\n",
        "+ X_test, y_test: Dùng để kiểm tra hiệu suất mô hình.\n",
        "\n",
        "+ Tách dữ liệu giúp mô hình được đánh giá khách quan trên dữ liệu chưa từng thấy.\n",
        "\n",
        "\"from sklearn.preprocessing import StandardScaler\"\n",
        "\n",
        "+ Mục đích: Dùng để chuẩn hóa dữ liệu đầu vào (features).\n",
        "\n",
        "+ Ridge Regression nhạy cảm với độ lớn của các đặc trưng, nên cần chuẩn hóa để:\n",
        "\n",
        "+ Đưa các biến về cùng thang đo (mean = 0, std = 1).\n",
        "\n",
        "+ Tránh biến lớn áp đảo biến nhỏ trong quá trình huấn luyện.\n",
        "\n"
      ],
      "metadata": {
        "id": "k8BGWxOvQMZo"
      }
    },
    {
      "cell_type": "markdown",
      "source": [
        "2.2.Tải và chuẩn bị dữ liệu"
      ],
      "metadata": {
        "id": "wd6kfC28RCaP"
      }
    },
    {
      "cell_type": "code",
      "source": [
        "data = load_linnerud()\n",
        "X = data.data\n",
        "y = data.target\n",
        "X_names = data.feature_names\n",
        "y_names = data.target_names\n",
        "\n",
        "X_train, X_test, y_train, y_test = train_test_split(X, y, test_size=0.2, random_state=42)\n",
        "\n",
        "scaler_X = StandardScaler()\n",
        "scaler_y = StandardScaler()\n",
        "\n",
        "X_train_scaled = scaler_X.fit_transform(X_train)\n",
        "X_test_scaled = scaler_X.transform(X_test)\n",
        "y_train_scaled = scaler_y.fit_transform(y_train)\n",
        "y_test_scaled = scaler_y.transform(y_test)\n"
      ],
      "metadata": {
        "id": "Nq0izidlSGUZ"
      },
      "execution_count": null,
      "outputs": []
    },
    {
      "cell_type": "markdown",
      "source": [
        "Giải thích code:\n",
        "\n",
        "\"data = load_linnerud()\"\n",
        "\n",
        "+ Tải bộ dữ liệu Linnerud từ thư viện sklearn.datasets.Bộ dữ liệu này gồm các chỉ số thể chất và kết quả thể lực của con người.\n",
        "\n",
        "\"X = data.data\"\n",
        "\"y = data.target\"\n",
        "\n",
        "⏺ Tách dữ liệu thành:\n",
        "\n",
        "+ X: các đặc trưng đầu vào (ví dụ: Chins, Situps, Jumps)\n",
        "\n",
        "+ y: các biến mục tiêu (ví dụ: Weight, Waist, Pulse)\n",
        "\n",
        "\"X_names = data.feature_names\"\n",
        "\"y_names = data.target_names\"\n",
        "\n",
        "+ Lấy tên các biến đặc trưng và mục tiêu để tiện theo dõi hoặc hiển thị sau này. Giúp hiểu rõ biến nào là gì trong quá trình phân tích.\n",
        "\n",
        "\" X_train, X_test, y_train, y_test = train_test_split(X, y, test_size=0.2, random_state=42) \"\n",
        "\n",
        "⏺ Chia dữ liệu thành:\n",
        "\n",
        "+ 80% để huấn luyện (X_train, y_train)\n",
        "\n",
        "+ 20% để kiểm tra (X_test, y_test)\n",
        "\n",
        "+ \"random_state=42\" giúp việc chia dữ liệu ổn định mỗi lần chạy lại\n",
        "\n",
        "\"scaler_X = StandardScaler()\"\n",
        "\"scaler_y = StandardScaler()\"\n",
        "\n",
        "⏺ Khởi tạo hai bộ chuẩn hóa dữ liệu (StandardScaler):\n",
        "\n",
        "+ scaler_X: chuẩn hóa các biến đầu vào\n",
        "\n",
        "+ scaler_y: chuẩn hóa các biến đầu ra\n",
        "\n",
        "+ Vì Ridge Regression nhạy cảm với độ lớn của dữ liệu, nên bắt buộc phải chuẩn hóa để tăng độ chính xác và độ ổn định của mô hình.\n",
        "\n",
        "\"X_train_scaled = scaler_X.fit_transform(X_train)\"\n",
        "\"X_test_scaled = scaler_X.transform(X_test)\"\n",
        "\n",
        "⏺ Chuẩn hóa đặc trưng (X):\n",
        "\n",
        "+ fit_transform: áp dụng lên X_train, tính trung bình & độ lệch chuẩn rồi chuẩn hóa.\n",
        "\n",
        "+ transform: áp dụng đúng chuẩn hóa đó cho X_tes\n",
        "\n",
        "\"y_train_scaled = scaler_y.fit_transform(y_train)\"\n",
        "\"y_test_scaled = scaler_y.transform(y_test)\"\n",
        "\n",
        "⏺ Chuẩn hóa mục tiêu (y) theo cách tương tự như với X:\n",
        "\n",
        "+ Giúp mô hình hồi quy đa biến hoạt động hiệu quả hơn.\n",
        "\n",
        "+ Cần thiết nếu bạn muốn Ridge hồi quy cho nhiều biến đầu ra cùng lúc (multivariate regression)."
      ],
      "metadata": {
        "id": "L8DI4ROJUbSs"
      }
    },
    {
      "cell_type": "markdown",
      "source": [
        "##3.Huấn luyện mô hình"
      ],
      "metadata": {
        "id": "1OnzS1JNCH_X"
      }
    },
    {
      "cell_type": "code",
      "source": [
        "# 3. Huấn luyện mô hình Ridge Regression\n",
        "from sklearn.linear_model import Ridge\n",
        "from sklearn.multioutput import MultiOutputRegressor\n",
        "# Khởi tạo mô hình với hệ số điều chuẩn(λ)\n",
        "ridge_model = MultiOutputRegressor(Ridge(alpha=1.0)) #Giá trị này điều khiển mức độ phạt khi các hệ số lớn → giúp giảm overfitting.\n",
        "# Huấn luyện mô hình với dữ liệu đã được chuẩn hóa\n",
        "ridge_model.fit(X_train_scaled, y_train_scaled) #Huấn luyện mô hình trên tập dữ liệu huấn luyện đã được chuẩn hóa.\n"
      ],
      "metadata": {
        "colab": {
          "base_uri": "https://localhost:8080/",
          "height": 229
        },
        "id": "tk-louqoPK5U",
        "outputId": "d3792edb-74f4-41e2-dba0-33bae4113fa8"
      },
      "execution_count": null,
      "outputs": [
        {
          "output_type": "execute_result",
          "data": {
            "text/plain": [
              "MultiOutputRegressor(estimator=Ridge())"
            ],
            "text/html": [
              "<style>#sk-container-id-1 {\n",
              "  /* Definition of color scheme common for light and dark mode */\n",
              "  --sklearn-color-text: #000;\n",
              "  --sklearn-color-text-muted: #666;\n",
              "  --sklearn-color-line: gray;\n",
              "  /* Definition of color scheme for unfitted estimators */\n",
              "  --sklearn-color-unfitted-level-0: #fff5e6;\n",
              "  --sklearn-color-unfitted-level-1: #f6e4d2;\n",
              "  --sklearn-color-unfitted-level-2: #ffe0b3;\n",
              "  --sklearn-color-unfitted-level-3: chocolate;\n",
              "  /* Definition of color scheme for fitted estimators */\n",
              "  --sklearn-color-fitted-level-0: #f0f8ff;\n",
              "  --sklearn-color-fitted-level-1: #d4ebff;\n",
              "  --sklearn-color-fitted-level-2: #b3dbfd;\n",
              "  --sklearn-color-fitted-level-3: cornflowerblue;\n",
              "\n",
              "  /* Specific color for light theme */\n",
              "  --sklearn-color-text-on-default-background: var(--sg-text-color, var(--theme-code-foreground, var(--jp-content-font-color1, black)));\n",
              "  --sklearn-color-background: var(--sg-background-color, var(--theme-background, var(--jp-layout-color0, white)));\n",
              "  --sklearn-color-border-box: var(--sg-text-color, var(--theme-code-foreground, var(--jp-content-font-color1, black)));\n",
              "  --sklearn-color-icon: #696969;\n",
              "\n",
              "  @media (prefers-color-scheme: dark) {\n",
              "    /* Redefinition of color scheme for dark theme */\n",
              "    --sklearn-color-text-on-default-background: var(--sg-text-color, var(--theme-code-foreground, var(--jp-content-font-color1, white)));\n",
              "    --sklearn-color-background: var(--sg-background-color, var(--theme-background, var(--jp-layout-color0, #111)));\n",
              "    --sklearn-color-border-box: var(--sg-text-color, var(--theme-code-foreground, var(--jp-content-font-color1, white)));\n",
              "    --sklearn-color-icon: #878787;\n",
              "  }\n",
              "}\n",
              "\n",
              "#sk-container-id-1 {\n",
              "  color: var(--sklearn-color-text);\n",
              "}\n",
              "\n",
              "#sk-container-id-1 pre {\n",
              "  padding: 0;\n",
              "}\n",
              "\n",
              "#sk-container-id-1 input.sk-hidden--visually {\n",
              "  border: 0;\n",
              "  clip: rect(1px 1px 1px 1px);\n",
              "  clip: rect(1px, 1px, 1px, 1px);\n",
              "  height: 1px;\n",
              "  margin: -1px;\n",
              "  overflow: hidden;\n",
              "  padding: 0;\n",
              "  position: absolute;\n",
              "  width: 1px;\n",
              "}\n",
              "\n",
              "#sk-container-id-1 div.sk-dashed-wrapped {\n",
              "  border: 1px dashed var(--sklearn-color-line);\n",
              "  margin: 0 0.4em 0.5em 0.4em;\n",
              "  box-sizing: border-box;\n",
              "  padding-bottom: 0.4em;\n",
              "  background-color: var(--sklearn-color-background);\n",
              "}\n",
              "\n",
              "#sk-container-id-1 div.sk-container {\n",
              "  /* jupyter's `normalize.less` sets `[hidden] { display: none; }`\n",
              "     but bootstrap.min.css set `[hidden] { display: none !important; }`\n",
              "     so we also need the `!important` here to be able to override the\n",
              "     default hidden behavior on the sphinx rendered scikit-learn.org.\n",
              "     See: https://github.com/scikit-learn/scikit-learn/issues/21755 */\n",
              "  display: inline-block !important;\n",
              "  position: relative;\n",
              "}\n",
              "\n",
              "#sk-container-id-1 div.sk-text-repr-fallback {\n",
              "  display: none;\n",
              "}\n",
              "\n",
              "div.sk-parallel-item,\n",
              "div.sk-serial,\n",
              "div.sk-item {\n",
              "  /* draw centered vertical line to link estimators */\n",
              "  background-image: linear-gradient(var(--sklearn-color-text-on-default-background), var(--sklearn-color-text-on-default-background));\n",
              "  background-size: 2px 100%;\n",
              "  background-repeat: no-repeat;\n",
              "  background-position: center center;\n",
              "}\n",
              "\n",
              "/* Parallel-specific style estimator block */\n",
              "\n",
              "#sk-container-id-1 div.sk-parallel-item::after {\n",
              "  content: \"\";\n",
              "  width: 100%;\n",
              "  border-bottom: 2px solid var(--sklearn-color-text-on-default-background);\n",
              "  flex-grow: 1;\n",
              "}\n",
              "\n",
              "#sk-container-id-1 div.sk-parallel {\n",
              "  display: flex;\n",
              "  align-items: stretch;\n",
              "  justify-content: center;\n",
              "  background-color: var(--sklearn-color-background);\n",
              "  position: relative;\n",
              "}\n",
              "\n",
              "#sk-container-id-1 div.sk-parallel-item {\n",
              "  display: flex;\n",
              "  flex-direction: column;\n",
              "}\n",
              "\n",
              "#sk-container-id-1 div.sk-parallel-item:first-child::after {\n",
              "  align-self: flex-end;\n",
              "  width: 50%;\n",
              "}\n",
              "\n",
              "#sk-container-id-1 div.sk-parallel-item:last-child::after {\n",
              "  align-self: flex-start;\n",
              "  width: 50%;\n",
              "}\n",
              "\n",
              "#sk-container-id-1 div.sk-parallel-item:only-child::after {\n",
              "  width: 0;\n",
              "}\n",
              "\n",
              "/* Serial-specific style estimator block */\n",
              "\n",
              "#sk-container-id-1 div.sk-serial {\n",
              "  display: flex;\n",
              "  flex-direction: column;\n",
              "  align-items: center;\n",
              "  background-color: var(--sklearn-color-background);\n",
              "  padding-right: 1em;\n",
              "  padding-left: 1em;\n",
              "}\n",
              "\n",
              "\n",
              "/* Toggleable style: style used for estimator/Pipeline/ColumnTransformer box that is\n",
              "clickable and can be expanded/collapsed.\n",
              "- Pipeline and ColumnTransformer use this feature and define the default style\n",
              "- Estimators will overwrite some part of the style using the `sk-estimator` class\n",
              "*/\n",
              "\n",
              "/* Pipeline and ColumnTransformer style (default) */\n",
              "\n",
              "#sk-container-id-1 div.sk-toggleable {\n",
              "  /* Default theme specific background. It is overwritten whether we have a\n",
              "  specific estimator or a Pipeline/ColumnTransformer */\n",
              "  background-color: var(--sklearn-color-background);\n",
              "}\n",
              "\n",
              "/* Toggleable label */\n",
              "#sk-container-id-1 label.sk-toggleable__label {\n",
              "  cursor: pointer;\n",
              "  display: flex;\n",
              "  width: 100%;\n",
              "  margin-bottom: 0;\n",
              "  padding: 0.5em;\n",
              "  box-sizing: border-box;\n",
              "  text-align: center;\n",
              "  align-items: start;\n",
              "  justify-content: space-between;\n",
              "  gap: 0.5em;\n",
              "}\n",
              "\n",
              "#sk-container-id-1 label.sk-toggleable__label .caption {\n",
              "  font-size: 0.6rem;\n",
              "  font-weight: lighter;\n",
              "  color: var(--sklearn-color-text-muted);\n",
              "}\n",
              "\n",
              "#sk-container-id-1 label.sk-toggleable__label-arrow:before {\n",
              "  /* Arrow on the left of the label */\n",
              "  content: \"▸\";\n",
              "  float: left;\n",
              "  margin-right: 0.25em;\n",
              "  color: var(--sklearn-color-icon);\n",
              "}\n",
              "\n",
              "#sk-container-id-1 label.sk-toggleable__label-arrow:hover:before {\n",
              "  color: var(--sklearn-color-text);\n",
              "}\n",
              "\n",
              "/* Toggleable content - dropdown */\n",
              "\n",
              "#sk-container-id-1 div.sk-toggleable__content {\n",
              "  max-height: 0;\n",
              "  max-width: 0;\n",
              "  overflow: hidden;\n",
              "  text-align: left;\n",
              "  /* unfitted */\n",
              "  background-color: var(--sklearn-color-unfitted-level-0);\n",
              "}\n",
              "\n",
              "#sk-container-id-1 div.sk-toggleable__content.fitted {\n",
              "  /* fitted */\n",
              "  background-color: var(--sklearn-color-fitted-level-0);\n",
              "}\n",
              "\n",
              "#sk-container-id-1 div.sk-toggleable__content pre {\n",
              "  margin: 0.2em;\n",
              "  border-radius: 0.25em;\n",
              "  color: var(--sklearn-color-text);\n",
              "  /* unfitted */\n",
              "  background-color: var(--sklearn-color-unfitted-level-0);\n",
              "}\n",
              "\n",
              "#sk-container-id-1 div.sk-toggleable__content.fitted pre {\n",
              "  /* unfitted */\n",
              "  background-color: var(--sklearn-color-fitted-level-0);\n",
              "}\n",
              "\n",
              "#sk-container-id-1 input.sk-toggleable__control:checked~div.sk-toggleable__content {\n",
              "  /* Expand drop-down */\n",
              "  max-height: 200px;\n",
              "  max-width: 100%;\n",
              "  overflow: auto;\n",
              "}\n",
              "\n",
              "#sk-container-id-1 input.sk-toggleable__control:checked~label.sk-toggleable__label-arrow:before {\n",
              "  content: \"▾\";\n",
              "}\n",
              "\n",
              "/* Pipeline/ColumnTransformer-specific style */\n",
              "\n",
              "#sk-container-id-1 div.sk-label input.sk-toggleable__control:checked~label.sk-toggleable__label {\n",
              "  color: var(--sklearn-color-text);\n",
              "  background-color: var(--sklearn-color-unfitted-level-2);\n",
              "}\n",
              "\n",
              "#sk-container-id-1 div.sk-label.fitted input.sk-toggleable__control:checked~label.sk-toggleable__label {\n",
              "  background-color: var(--sklearn-color-fitted-level-2);\n",
              "}\n",
              "\n",
              "/* Estimator-specific style */\n",
              "\n",
              "/* Colorize estimator box */\n",
              "#sk-container-id-1 div.sk-estimator input.sk-toggleable__control:checked~label.sk-toggleable__label {\n",
              "  /* unfitted */\n",
              "  background-color: var(--sklearn-color-unfitted-level-2);\n",
              "}\n",
              "\n",
              "#sk-container-id-1 div.sk-estimator.fitted input.sk-toggleable__control:checked~label.sk-toggleable__label {\n",
              "  /* fitted */\n",
              "  background-color: var(--sklearn-color-fitted-level-2);\n",
              "}\n",
              "\n",
              "#sk-container-id-1 div.sk-label label.sk-toggleable__label,\n",
              "#sk-container-id-1 div.sk-label label {\n",
              "  /* The background is the default theme color */\n",
              "  color: var(--sklearn-color-text-on-default-background);\n",
              "}\n",
              "\n",
              "/* On hover, darken the color of the background */\n",
              "#sk-container-id-1 div.sk-label:hover label.sk-toggleable__label {\n",
              "  color: var(--sklearn-color-text);\n",
              "  background-color: var(--sklearn-color-unfitted-level-2);\n",
              "}\n",
              "\n",
              "/* Label box, darken color on hover, fitted */\n",
              "#sk-container-id-1 div.sk-label.fitted:hover label.sk-toggleable__label.fitted {\n",
              "  color: var(--sklearn-color-text);\n",
              "  background-color: var(--sklearn-color-fitted-level-2);\n",
              "}\n",
              "\n",
              "/* Estimator label */\n",
              "\n",
              "#sk-container-id-1 div.sk-label label {\n",
              "  font-family: monospace;\n",
              "  font-weight: bold;\n",
              "  display: inline-block;\n",
              "  line-height: 1.2em;\n",
              "}\n",
              "\n",
              "#sk-container-id-1 div.sk-label-container {\n",
              "  text-align: center;\n",
              "}\n",
              "\n",
              "/* Estimator-specific */\n",
              "#sk-container-id-1 div.sk-estimator {\n",
              "  font-family: monospace;\n",
              "  border: 1px dotted var(--sklearn-color-border-box);\n",
              "  border-radius: 0.25em;\n",
              "  box-sizing: border-box;\n",
              "  margin-bottom: 0.5em;\n",
              "  /* unfitted */\n",
              "  background-color: var(--sklearn-color-unfitted-level-0);\n",
              "}\n",
              "\n",
              "#sk-container-id-1 div.sk-estimator.fitted {\n",
              "  /* fitted */\n",
              "  background-color: var(--sklearn-color-fitted-level-0);\n",
              "}\n",
              "\n",
              "/* on hover */\n",
              "#sk-container-id-1 div.sk-estimator:hover {\n",
              "  /* unfitted */\n",
              "  background-color: var(--sklearn-color-unfitted-level-2);\n",
              "}\n",
              "\n",
              "#sk-container-id-1 div.sk-estimator.fitted:hover {\n",
              "  /* fitted */\n",
              "  background-color: var(--sklearn-color-fitted-level-2);\n",
              "}\n",
              "\n",
              "/* Specification for estimator info (e.g. \"i\" and \"?\") */\n",
              "\n",
              "/* Common style for \"i\" and \"?\" */\n",
              "\n",
              ".sk-estimator-doc-link,\n",
              "a:link.sk-estimator-doc-link,\n",
              "a:visited.sk-estimator-doc-link {\n",
              "  float: right;\n",
              "  font-size: smaller;\n",
              "  line-height: 1em;\n",
              "  font-family: monospace;\n",
              "  background-color: var(--sklearn-color-background);\n",
              "  border-radius: 1em;\n",
              "  height: 1em;\n",
              "  width: 1em;\n",
              "  text-decoration: none !important;\n",
              "  margin-left: 0.5em;\n",
              "  text-align: center;\n",
              "  /* unfitted */\n",
              "  border: var(--sklearn-color-unfitted-level-1) 1pt solid;\n",
              "  color: var(--sklearn-color-unfitted-level-1);\n",
              "}\n",
              "\n",
              ".sk-estimator-doc-link.fitted,\n",
              "a:link.sk-estimator-doc-link.fitted,\n",
              "a:visited.sk-estimator-doc-link.fitted {\n",
              "  /* fitted */\n",
              "  border: var(--sklearn-color-fitted-level-1) 1pt solid;\n",
              "  color: var(--sklearn-color-fitted-level-1);\n",
              "}\n",
              "\n",
              "/* On hover */\n",
              "div.sk-estimator:hover .sk-estimator-doc-link:hover,\n",
              ".sk-estimator-doc-link:hover,\n",
              "div.sk-label-container:hover .sk-estimator-doc-link:hover,\n",
              ".sk-estimator-doc-link:hover {\n",
              "  /* unfitted */\n",
              "  background-color: var(--sklearn-color-unfitted-level-3);\n",
              "  color: var(--sklearn-color-background);\n",
              "  text-decoration: none;\n",
              "}\n",
              "\n",
              "div.sk-estimator.fitted:hover .sk-estimator-doc-link.fitted:hover,\n",
              ".sk-estimator-doc-link.fitted:hover,\n",
              "div.sk-label-container:hover .sk-estimator-doc-link.fitted:hover,\n",
              ".sk-estimator-doc-link.fitted:hover {\n",
              "  /* fitted */\n",
              "  background-color: var(--sklearn-color-fitted-level-3);\n",
              "  color: var(--sklearn-color-background);\n",
              "  text-decoration: none;\n",
              "}\n",
              "\n",
              "/* Span, style for the box shown on hovering the info icon */\n",
              ".sk-estimator-doc-link span {\n",
              "  display: none;\n",
              "  z-index: 9999;\n",
              "  position: relative;\n",
              "  font-weight: normal;\n",
              "  right: .2ex;\n",
              "  padding: .5ex;\n",
              "  margin: .5ex;\n",
              "  width: min-content;\n",
              "  min-width: 20ex;\n",
              "  max-width: 50ex;\n",
              "  color: var(--sklearn-color-text);\n",
              "  box-shadow: 2pt 2pt 4pt #999;\n",
              "  /* unfitted */\n",
              "  background: var(--sklearn-color-unfitted-level-0);\n",
              "  border: .5pt solid var(--sklearn-color-unfitted-level-3);\n",
              "}\n",
              "\n",
              ".sk-estimator-doc-link.fitted span {\n",
              "  /* fitted */\n",
              "  background: var(--sklearn-color-fitted-level-0);\n",
              "  border: var(--sklearn-color-fitted-level-3);\n",
              "}\n",
              "\n",
              ".sk-estimator-doc-link:hover span {\n",
              "  display: block;\n",
              "}\n",
              "\n",
              "/* \"?\"-specific style due to the `<a>` HTML tag */\n",
              "\n",
              "#sk-container-id-1 a.estimator_doc_link {\n",
              "  float: right;\n",
              "  font-size: 1rem;\n",
              "  line-height: 1em;\n",
              "  font-family: monospace;\n",
              "  background-color: var(--sklearn-color-background);\n",
              "  border-radius: 1rem;\n",
              "  height: 1rem;\n",
              "  width: 1rem;\n",
              "  text-decoration: none;\n",
              "  /* unfitted */\n",
              "  color: var(--sklearn-color-unfitted-level-1);\n",
              "  border: var(--sklearn-color-unfitted-level-1) 1pt solid;\n",
              "}\n",
              "\n",
              "#sk-container-id-1 a.estimator_doc_link.fitted {\n",
              "  /* fitted */\n",
              "  border: var(--sklearn-color-fitted-level-1) 1pt solid;\n",
              "  color: var(--sklearn-color-fitted-level-1);\n",
              "}\n",
              "\n",
              "/* On hover */\n",
              "#sk-container-id-1 a.estimator_doc_link:hover {\n",
              "  /* unfitted */\n",
              "  background-color: var(--sklearn-color-unfitted-level-3);\n",
              "  color: var(--sklearn-color-background);\n",
              "  text-decoration: none;\n",
              "}\n",
              "\n",
              "#sk-container-id-1 a.estimator_doc_link.fitted:hover {\n",
              "  /* fitted */\n",
              "  background-color: var(--sklearn-color-fitted-level-3);\n",
              "}\n",
              "</style><div id=\"sk-container-id-1\" class=\"sk-top-container\"><div class=\"sk-text-repr-fallback\"><pre>MultiOutputRegressor(estimator=Ridge())</pre><b>In a Jupyter environment, please rerun this cell to show the HTML representation or trust the notebook. <br />On GitHub, the HTML representation is unable to render, please try loading this page with nbviewer.org.</b></div><div class=\"sk-container\" hidden><div class=\"sk-item sk-dashed-wrapped\"><div class=\"sk-label-container\"><div class=\"sk-label fitted sk-toggleable\"><input class=\"sk-toggleable__control sk-hidden--visually\" id=\"sk-estimator-id-1\" type=\"checkbox\" ><label for=\"sk-estimator-id-1\" class=\"sk-toggleable__label fitted sk-toggleable__label-arrow\"><div><div>MultiOutputRegressor</div></div><div><a class=\"sk-estimator-doc-link fitted\" rel=\"noreferrer\" target=\"_blank\" href=\"https://scikit-learn.org/1.6/modules/generated/sklearn.multioutput.MultiOutputRegressor.html\">?<span>Documentation for MultiOutputRegressor</span></a><span class=\"sk-estimator-doc-link fitted\">i<span>Fitted</span></span></div></label><div class=\"sk-toggleable__content fitted\"><pre>MultiOutputRegressor(estimator=Ridge())</pre></div> </div></div><div class=\"sk-parallel\"><div class=\"sk-parallel-item\"><div class=\"sk-item\"><div class=\"sk-label-container\"><div class=\"sk-label fitted sk-toggleable\"><input class=\"sk-toggleable__control sk-hidden--visually\" id=\"sk-estimator-id-2\" type=\"checkbox\" ><label for=\"sk-estimator-id-2\" class=\"sk-toggleable__label fitted sk-toggleable__label-arrow\"><div><div>estimator: Ridge</div></div></label><div class=\"sk-toggleable__content fitted\"><pre>Ridge()</pre></div> </div></div><div class=\"sk-serial\"><div class=\"sk-item\"><div class=\"sk-estimator fitted sk-toggleable\"><input class=\"sk-toggleable__control sk-hidden--visually\" id=\"sk-estimator-id-3\" type=\"checkbox\" ><label for=\"sk-estimator-id-3\" class=\"sk-toggleable__label fitted sk-toggleable__label-arrow\"><div><div>Ridge</div></div><div><a class=\"sk-estimator-doc-link fitted\" rel=\"noreferrer\" target=\"_blank\" href=\"https://scikit-learn.org/1.6/modules/generated/sklearn.linear_model.Ridge.html\">?<span>Documentation for Ridge</span></a></div></label><div class=\"sk-toggleable__content fitted\"><pre>Ridge()</pre></div> </div></div></div></div></div></div></div></div></div>"
            ]
          },
          "metadata": {},
          "execution_count": 8
        }
      ]
    },
    {
      "cell_type": "markdown",
      "source": [
        "Nhận xét:\n",
        "\n",
        "⏺ Lớp chính: MultiOutputRegressor\n",
        "\n",
        "+ Đây là mô hình tổng bao bọc nhiều mô hình con, dùng cho bài toán hồi quy đa đầu ra.\n",
        "\n",
        "+ Mỗi đầu ra (target) sẽ có một mô hình riêng biệt huấn luyện độc lập.\n",
        "\n",
        "⏺ Bộ học (estimator): Ridge()\n",
        "\n",
        "+ MultiOutputRegressor sử dụng bộ học cơ sở là Ridge Regression.\n",
        "\n",
        "+ Điều này nghĩa là mỗi đầu ra sẽ được học bởi một mô hình Ridge.\n",
        "\n",
        "⏺ Cấu trúc lồng nhau (nested):\n",
        "\n",
        "+ Sơ đồ cho thấy rõ rằng có một đối tượng Ridge được khởi tạo bên trong MultiOutputRegressor.\n",
        "\n",
        "+ Điều này chứng minh rằng nhiều mô hình Ridge được tạo ra, mỗi cái cho một đầu ra riêng biệt.\n",
        "\n",
        "⏺ Tính mô-đun và mở rộng:\n",
        "\n",
        "+ Sơ đồ thể hiện cách các mô hình con (ở đây là Ridge) được tổ chức, cho thấy kiến trúc này rất dễ mở rộng hoặc thay thế Ridge bằng các mô hình khác."
      ],
      "metadata": {
        "id": "mE9haERrZqKM"
      }
    },
    {
      "cell_type": "markdown",
      "source": [
        "##4.Đánh giá mô hình"
      ],
      "metadata": {
        "id": "ToFCWOw6CNF8"
      }
    },
    {
      "cell_type": "markdown",
      "source": [
        "4.1.Trình bày kết quả đánh giá trên tập kiểm tra bằng các chỉ số"
      ],
      "metadata": {
        "id": "6jMUifttcJ7V"
      }
    },
    {
      "cell_type": "markdown",
      "source": [
        "⏺ Mean Squared Error (MSE)\n",
        "+ Là sai số bình phương trung bình giữa giá trị dự đoán và thực tế.\n",
        "\n",
        "+ Giá trị MSE càng nhỏ càng tốt.\n",
        "\n",
        "⏺ R² Score (Hệ số xác định)\n",
        "+ Đo mức độ phù hợp của mô hình (1.0 là tốt nhất).\n"
      ],
      "metadata": {
        "id": "KlQmZmRVc_e2"
      }
    },
    {
      "cell_type": "code",
      "source": [
        "# 4. Đánh giá mô hình\n",
        "from sklearn.metrics import mean_squared_error, r2_score\n",
        "import pandas as pd\n",
        "\n",
        "def evaluate_model(y_true, y_pred):\n",
        "    mse = mean_squared_error(y_true, y_pred, multioutput='raw_values')\n",
        "    r2 = r2_score(y_true, y_pred, multioutput='raw_values')\n",
        "    return pd.DataFrame({\n",
        "        'Metric': ['MSE', 'R2'],\n",
        "        y_names[0]: [mse[0], r2[0]],\n",
        "        y_names[1]: [mse[1], r2[1]],\n",
        "        y_names[2]: [mse[2], r2[2]]\n",
        "    }).set_index('Metric')\n",
        "\n",
        "ridge_preds = ridge_model.predict(X_test_scaled)\n",
        "ridge_eval = evaluate_model(y_test_scaled, ridge_preds)\n",
        "\n",
        "print(\"Ridge Regression Evaluation:\")\n",
        "print(ridge_eval)"
      ],
      "metadata": {
        "id": "Xx6p48tvEZlo",
        "colab": {
          "base_uri": "https://localhost:8080/"
        },
        "outputId": "fd7e0d96-01b6-4287-a2b1-0d4122adfaca"
      },
      "execution_count": null,
      "outputs": [
        {
          "output_type": "stream",
          "name": "stdout",
          "text": [
            "Ridge Regression Evaluation:\n",
            "          Weight     Waist     Pulse\n",
            "Metric                              \n",
            "MSE     0.830897  0.329225  1.168329\n",
            "R2     -0.896517  0.139415 -1.913355\n"
          ]
        }
      ]
    },
    {
      "cell_type": "markdown",
      "source": [
        "Nhận xét:\n",
        "\n",
        "⏺ Waist (Vòng eo):\n",
        "+ MSE thấp: 0.329225 → dự đoán khá chính xác.\n",
        "\n",
        "+ R² dương (0.139): mô hình bắt được xu hướng, dù chưa tốt lắm.\n",
        "\n",
        "Đây là biến dự đoán tốt nhất trong 3 biến.\n",
        "\n",
        "⏺ Weight (Cân nặng):\n",
        "+ R² âm (-0.896): mô hình không phù hợp, dự đoán kém.\n",
        "\n",
        "+ Có thể do quan hệ giữa X và Weight không tuyến tính hoặc do dữ liệu huấn luyện quá ít.\n",
        "\n",
        "⏺ Pulse (Nhịp tim):\n",
        "+ R² rất âm (-1.91) → mô hình dự đoán cực kém, không thể hiện được mối liên hệ nào.\n",
        "\n",
        "+ MSE cũng cao nhất (1.168) → dự đoán sai nhiều."
      ],
      "metadata": {
        "id": "_4qs-HP2jghc"
      }
    },
    {
      "cell_type": "markdown",
      "source": [
        "4.2.Trực quan hóa kết quả"
      ],
      "metadata": {
        "id": "leZLJk7Qb_gB"
      }
    },
    {
      "cell_type": "markdown",
      "source": [
        "Hiển thị biểu đồ so sánh giá trị thực và giá trị dự đoán"
      ],
      "metadata": {
        "id": "iSvrvjOrk1ty"
      }
    },
    {
      "cell_type": "code",
      "source": [
        "import matplotlib.pyplot as plt\n",
        "\n",
        "# Đảo ngược chuẩn hóa để biểu diễn trực quan dễ hiểu hơn\n",
        "y_test_original = scaler_y.inverse_transform(y_test_scaled)\n",
        "y_pred_original = scaler_y.inverse_transform(ridge_preds)\n",
        "\n",
        "# Vẽ biểu đồ cho từng target\n",
        "for i in range(len(y_names)):\n",
        "    plt.figure(figsize=(6, 4))\n",
        "    plt.plot(y_test_original[:, i], label='Thực tế', marker='o')\n",
        "    plt.plot(y_pred_original[:, i], label='Dự đoán', marker='x')\n",
        "    plt.title(f'So sánh giá trị Thực tế vs Dự đoán - {y_names[i]}')\n",
        "    plt.xlabel('Mẫu')\n",
        "    plt.ylabel(y_names[i])\n",
        "    plt.legend()\n",
        "    plt.grid(True)\n",
        "    plt.tight_layout()\n",
        "    plt.show()"
      ],
      "metadata": {
        "colab": {
          "base_uri": "https://localhost:8080/",
          "height": 1000
        },
        "id": "vAu3KN2EUOkA",
        "outputId": "56baeb5f-7473-4d82-9dc2-5129c331dd09"
      },
      "execution_count": null,
      "outputs": [
        {
          "output_type": "display_data",
          "data": {
            "text/plain": [
              "<Figure size 600x400 with 1 Axes>"
            ],
            "image/png": "[encoded data removed]"
          },
          "metadata": {}
        },
        {
          "output_type": "display_data",
          "data": {
            "text/plain": [
              "<Figure size 600x400 with 1 Axes>"
            ],
            "image/png": "[encoded data removed]"
          },
          "metadata": {}
        },
        {
          "output_type": "display_data",
          "data": {
            "text/plain": [
              "<Figure size 600x400 with 1 Axes>"
            ],
            "image/png": "[encoded data removed]"
          },
          "metadata": {}
        }
      ]
    },
    {
      "cell_type": "markdown",
      "source": [
        "Nhận xét:\n",
        "\n",
        "⏺ Biểu đồ 1:\n",
        "+ Mô hình có xu hướng dự đoán thấp hơn so với giá trị thực tế ở hầu hết các mẫu.\n",
        "\n",
        "+ Đặc biệt tại mẫu thứ 2, chênh lệch giữa dự đoán và thực tế là lớn nhất → có thể là điểm yếu của mô hình trong việc xử lý giá trị tăng đột ngột.\n",
        "\n",
        "+ Đường dự đoán (màu cam) thay đổi mượt hơn, không dao động mạnh như đường thực tế.\n",
        "\n",
        "+ Điều này là đặc trưng thường thấy ở mô hình Ridge Regression do hiệu ứng làm mượt của regularization (L2 penalty).\n",
        "\n",
        "+ Mặc dù xu hướng tăng/giảm của mô hình là tương đối đúng, nhưng giá trị tuyệt đối vẫn lệch nhiều so với thực tế.\n",
        "\n",
        "⏺ Biểu đồ 2:\n",
        "+ Đường dự đoán (màu cam) bám khá sát với đường thực tế (màu xanh).\n",
        "\n",
        "+ Mô hình đã nắm bắt được xu hướng tăng giảm của giá trị vòng eo.\n",
        "\n",
        "+ Tại các điểm như mẫu số 0, 1, 3, mô hình có sai lệch nhưng không quá lớn.\n",
        "\n",
        "+ Dự đoán có xu hướng \"mượt\" hơn, không thay đổi gắt như giá trị thực tế (điển hình ở mẫu số 2).\n",
        "\n",
        "⏺ Biểu đồ 3:\n",
        "+ Đường màu xanh biểu diễn giá trị nhịp tim (Pulse) thực tế, còn đường màu cam biểu diễn giá trị dự đoán từ mô hình Ridge Regression.\n",
        "\n",
        "+ Hai đường có xu hướng ngược chiều tại một số mẫu, cho thấy mô hình chưa theo sát biến động thực tế.\n",
        "\n",
        "+ Tại mẫu thứ 0 và 1, mô hình dự đoán giá trị cao hơn thực tế rõ rệt, phản ánh xu hướng overpredict (dự đoán cao quá).\n",
        "\n",
        "+ Tại mẫu thứ 2, mô hình dự đoán thấp hơn thực tế trong khi thực tế tăng đột biến → mô hình không phản ứng tốt với biến động lớn.\n",
        "\n",
        "+ Ở mẫu thứ 3, khoảng cách giữa thực tế và dự đoán giảm, cho thấy mô hình dần ổn định hơn."
      ],
      "metadata": {
        "id": "cHPyL9aXfCqe"
      }
    },
    {
      "cell_type": "markdown",
      "source": [
        "##5.So sánh và kết luận"
      ],
      "metadata": {
        "id": "8OINURfyCRt7"
      }
    },
    {
      "cell_type": "markdown",
      "source": [
        "5.1 So sánh giữa kết quả dự đoán và thực tế:\n",
        "\n",
        "⏺ Sau khi huấn luyện mô hình Ridge Regression ta tiến hành so sánh giữa kết quả dự đoán và thực tế để đánh giá độ chính xác:\n",
        "\n",
        "Ưu điểm\n",
        "\n",
        "+ Dễ dàng nhận biết mức độ khớp giữa mô hình và dữ liệu thực tế thông qua biểu đồ hoặc bảng.\n",
        "\n",
        "+ Giúp phát hiện nhanh các điểm dự đoán sai hoặc xu hướng lệch.\n",
        "\n",
        "Hạn chế:\n",
        "\n",
        "+ Thiếu độ chính xác định lượng:Việc chỉ nhìn biểu đồ không đủ để đánh giá toàn diện mô hình – cần kết hợp với các chỉ số định lượng như MSE, R².\n",
        "\n",
        "+ Dễ bị ngộ nhận bởi dữ liệu ít:Nếu số lượng mẫu nhỏ (ví dụ chỉ 4-5 mẫu test), kết luận từ biểu đồ có thể thiếu khách quan.\n",
        "\n",
        "+ Mẫu ít dẫn đến sự lệch hướng không phản ánh đúng toàn bộ dữ liệu.\n",
        "\n",
        "+ Không phản ánh toàn diện độ phức tạp của dữ liệu:Biểu đồ đơn giản không thể hiện được hết mối quan hệ đa chiều giữa các biến.\n",
        "\n",
        "+ Khó áp dụng cho bài toán nhiều biến mục tiêu:Với các mô hình đa biến (multi-output), việc vẽ và so sánh từng đầu ra có thể rườm rà và tốn thời gian.\n",
        "\n",
        "5.2 Đánh giá chất lượng mô hình qua các chỉ số:\n",
        "![image.png](data:image/png;base64,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)\n",
        "\n",
        "⏺ Giải thích:\n",
        "+ MSE càng nhỏ → dự đoán càng gần thực tế.\n",
        "\n",
        "+ R² càng gần 1 → mô hình dự đoán tốt; R² < 0 nghĩa là mô hình tệ hơn cả trung bình cộng\n",
        "\n",
        "5.3 Kết luận tổng thể:\n",
        "\n",
        "⏺ Mô hình Ridge Regression thể hiện năng lực dự đoán trung bình, chỉ khả quan với biến Waist.\n",
        "\n",
        "⏺ Với hai biến còn lại (Weight và Pulse), mô hình không hiệu quả, cho R² âm, chứng tỏ dự đoán không đáng tin cậy.\n",
        "\n",
        "⏺ Nguyên nhân có thể đến từ:\n",
        "\n",
        "+ Bộ dữ liệu nhỏ và nhiễu.\n",
        "\n",
        "+ Mối quan hệ giữa biến đầu vào và đầu ra không hoàn toàn tuyến tính.\n",
        "\n",
        "+ Ridge Regression hạn chế trong việc học các đặc trưng phi tuyến."
      ],
      "metadata": {
        "id": "V5q7IDnBCV_g"
      }
    },
    {
      "cell_type": "markdown",
      "source": [
        "# V.THUẬT TOÁN LINEAR Regression"
      ],
      "metadata": {
        "id": "weTJLTheDep9"
      }
    },
    {
      "cell_type": "markdown",
      "source": [
        "## 1.Giới thiệu"
      ],
      "metadata": {
        "id": "qejLxcCwD2jB"
      }
    },
    {
      "cell_type": "markdown",
      "source": [
        "Thuật toán học máy được lựa chọn: Linear Regression\n",
        "\n",
        "Mô tả ngắn:\n",
        "\n",
        "- Linear Regression (Hồi quy tuyến tính) là một thuật toán cơ bản trong học máy, dùng để mô hình hóa mối quan hệ tuyến tính giữa biến đầu vào (biến độc lập) và đầu ra (biến phụ thuộc).\n",
        "\n",
        "Cơ chế hoạt động chính:\n",
        "\n",
        "- Mô hình cố gắng tìm ra đường thẳng tốt nhất (trong không gian nhiều chiều) để dự đoán giá trị đầu ra dựa trên đầu vào.\n",
        "\n",
        "- Quá trình huấn luyện tìm các hệ số tuyến tính sao cho tổng sai số bình phương giữa giá trị thực tế và giá trị dự đoán là nhỏ nhất (Least Squares).\n",
        "\n",
        "Đặc điểm:\n",
        "\n",
        "- Giản đơn, dễ hiểu, dễ triển khai.\n",
        "\n",
        "- Là mô hình nền tảng cho nhiều thuật toán hồi quy khác.\n",
        "\n",
        "- Có thể mở rộng sang hồi quy đa đầu ra một cách tự nhiên."
      ],
      "metadata": {
        "id": "amxvxdAeEku0"
      }
    },
    {
      "cell_type": "markdown",
      "source": [
        "Lý do chọn Linear Regression cho bài toán này:\n",
        "\n",
        "- Phù hợp với bộ dữ liệu nhỏ và có mối quan hệ tuyến tính như bộ Linnerud.\n",
        "\n",
        "- Là một baseline tốt để đánh giá hiệu quả các mô hình khác.\n",
        "\n",
        "- Cho phép phân tích rõ ràng mối quan hệ giữa các đặc trưng đầu vào và đầu ra.\n",
        "\n",
        "- Hiệu quả trong các bài toán cần mô hình đơn giản, dễ giải thích."
      ],
      "metadata": {
        "id": "9LZPToubE5WS"
      }
    },
    {
      "cell_type": "markdown",
      "source": [
        "Mục tiêu áp dụng thuật toán\n",
        "  \n",
        "- Thực hiện hồi quy đa đầu ra (multi-output regression) để dự đoán đồng thời ba chỉ số thể lực.\n",
        "\n",
        "- Phân tích hệ số hồi quy để hiểu rõ tầm ảnh hưởng của từng đặc trưng đầu vào đến đầu ra.\n",
        "\n",
        "- Đánh giá hiệu quả dự đoán thông qua các chỉ số như MAE, MSE, R² và kiểm tra khả năng mô hình tổng quát hóa dữ liệu chưa từng thấy.\n",
        "\n"
      ],
      "metadata": {
        "id": "_57ugC_3FGYz"
      }
    },
    {
      "cell_type": "markdown",
      "source": [
        "## 2.Chuẩn bị dữ liệu"
      ],
      "metadata": {
        "id": "BZfofBn5D55v"
      }
    },
    {
      "cell_type": "markdown",
      "source": [
        "2.1.Tải dữ liệu để huấn luyện"
      ],
      "metadata": {
        "id": "TpZFZzrUHKT4"
      }
    },
    {
      "cell_type": "code",
      "source": [
        "from sklearn.datasets import load_linnerud\n",
        "# Tải dữ liệu Linnerud\n",
        "data = load_linnerud()\n",
        "\n",
        "# Tách đặc trưng đầu vào (features) và giá trị mục tiêu (target)\n",
        "X = data.data        # Đặc trưng đầu vào: Chins, Situps, Jumps\n",
        "y = data.target      # Giá trị mục tiêu: Weight, Waist, Pulse\n",
        "print(\"Chins, Situps, Jumps\\n\", X)\n",
        "print(\"Weight, Waist, Pulse\\n\", y)"
      ],
      "metadata": {
        "colab": {
          "base_uri": "https://localhost:8080/"
        },
        "id": "6bKD1GGLHOLD",
        "outputId": "87b55ee2-5bbc-47b0-f1fe-36a2e1459640"
      },
      "execution_count": null,
      "outputs": [
        {
          "output_type": "stream",
          "name": "stdout",
          "text": [
            "Chins, Situps, Jumps\n",
            " [[  5. 162.  60.]\n",
            " [  2. 110.  60.]\n",
            " [ 12. 101. 101.]\n",
            " [ 12. 105.  37.]\n",
            " [ 13. 155.  58.]\n",
            " [  4. 101.  42.]\n",
            " [  8. 101.  38.]\n",
            " [  6. 125.  40.]\n",
            " [ 15. 200.  40.]\n",
            " [ 17. 251. 250.]\n",
            " [ 17. 120.  38.]\n",
            " [ 13. 210. 115.]\n",
            " [ 14. 215. 105.]\n",
            " [  1.  50.  50.]\n",
            " [  6.  70.  31.]\n",
            " [ 12. 210. 120.]\n",
            " [  4.  60.  25.]\n",
            " [ 11. 230.  80.]\n",
            " [ 15. 225.  73.]\n",
            " [  2. 110.  43.]]\n",
            "Weight, Waist, Pulse\n",
            " [[191.  36.  50.]\n",
            " [189.  37.  52.]\n",
            " [193.  38.  58.]\n",
            " [162.  35.  62.]\n",
            " [189.  35.  46.]\n",
            " [182.  36.  56.]\n",
            " [211.  38.  56.]\n",
            " [167.  34.  60.]\n",
            " [176.  31.  74.]\n",
            " [154.  33.  56.]\n",
            " [169.  34.  50.]\n",
            " [166.  33.  52.]\n",
            " [154.  34.  64.]\n",
            " [247.  46.  50.]\n",
            " [193.  36.  46.]\n",
            " [202.  37.  62.]\n",
            " [176.  37.  54.]\n",
            " [157.  32.  52.]\n",
            " [156.  33.  54.]\n",
            " [138.  33.  68.]]\n"
          ]
        }
      ]
    },
    {
      "cell_type": "markdown",
      "source": [
        "Giải thích code:\n",
        "\n",
        "+ from sklearn.datasets import load_linnerud\n",
        " + sklearn.datasets: là module chứa nhiều bộ dữ liệu mẫu có sẵn cho việc học và thử nghiệm.\n",
        "\n",
        "+ load_linnerud: là một hàm được cung cấp sẵn để tải bộ dữ liệu Linnerud.\n",
        "\n",
        "+ Bộ Linnerud là một bộ dữ liệu thể chất, gồm:\n",
        "\n",
        " + 3 đặc trưng đầu vào (X): số lần chống đẩy, gập bụng, nhảy.\n",
        "\n",
        " + 3 giá trị đầu ra (y): trọng lượng, vòng eo, nhịp tim.\n",
        "\n",
        "+ data = load_linnerud()\n",
        " + Gọi hàm load_linnerud() để tải dữ liệu vào biến data.\n",
        "\n",
        " + Biến data bây giờ là một đối tượng kiểu Bunch, gần giống như một từ điển (dictionary).\n",
        "\n",
        " + Bạn có thể truy cập các phần bên trong data bằng cú pháp như:\n",
        "\n",
        "   + data.data → đặc trưng đầu vào.\n",
        "\n",
        "   + data.target → nhãn đầu ra.\n",
        "\n",
        "   + data.feature_names → tên các đặc trưng đầu vào.\n",
        "\n",
        "   + data.target_names → tên các nhãn đầu ra.\n",
        "\n"
      ],
      "metadata": {
        "id": "KA_sLUDCP_F2"
      }
    },
    {
      "cell_type": "markdown",
      "source": [
        "2.2.Chia dữ liệu"
      ],
      "metadata": {
        "id": "TFdtQv5WIGzi"
      }
    },
    {
      "cell_type": "markdown",
      "source": [
        "- Chia thành hai tập: huấn luyện (80%)  và kiểm tra (20%)"
      ],
      "metadata": {
        "id": "77gx4WenH1gU"
      }
    },
    {
      "cell_type": "code",
      "source": [
        "from sklearn.model_selection import train_test_split\n",
        "X_train, X_test, y_train, y_test = train_test_split(X, y, test_size=0.2, random_state=42)\n",
        "print(\"Chins, Situps, Jumps\")\n",
        "print(\"Dữ liệu đầu vào để huấn luyện(80%): \\n\",X_train,\"\\nPhần input để kiểm tra mô hình(20%): \\n\", X_test)\n",
        "print(\"\\nWeight, Waist, Pulse\")\n",
        "print(\"Dữ liệu đầu ra để huấn luyện(80%): \\n\",y_train,\"\\nPhần output để kiểm tra mô hình(20%): \\n\", y_test)"
      ],
      "metadata": {
        "colab": {
          "base_uri": "https://localhost:8080/"
        },
        "id": "W3IKbEHxIAdK",
        "outputId": "c14e81ae-8533-4bac-9789-01690e68b40c"
      },
      "execution_count": null,
      "outputs": [
        {
          "output_type": "stream",
          "name": "stdout",
          "text": [
            "Chins, Situps, Jumps\n",
            "Dữ liệu đầu vào để huấn luyện(80%): \n",
            " [[ 15. 200.  40.]\n",
            " [  4. 101.  42.]\n",
            " [ 13. 210. 115.]\n",
            " [ 12. 105.  37.]\n",
            " [ 15. 225.  73.]\n",
            " [  4.  60.  25.]\n",
            " [  1.  50.  50.]\n",
            " [ 12. 101. 101.]\n",
            " [ 17. 251. 250.]\n",
            " [  2. 110.  43.]\n",
            " [ 13. 155.  58.]\n",
            " [ 14. 215. 105.]\n",
            " [  6. 125.  40.]\n",
            " [ 17. 120.  38.]\n",
            " [  6.  70.  31.]\n",
            " [  8. 101.  38.]] \n",
            "Phần input để kiểm tra mô hình(20%): \n",
            " [[  5. 162.  60.]\n",
            " [ 11. 230.  80.]\n",
            " [ 12. 210. 120.]\n",
            " [  2. 110.  60.]]\n",
            "\n",
            "Weight, Waist, Pulse\n",
            "Dữ liệu đầu ra để huấn luyện(80%): \n",
            " [[176.  31.  74.]\n",
            " [182.  36.  56.]\n",
            " [166.  33.  52.]\n",
            " [162.  35.  62.]\n",
            " [156.  33.  54.]\n",
            " [176.  37.  54.]\n",
            " [247.  46.  50.]\n",
            " [193.  38.  58.]\n",
            " [154.  33.  56.]\n",
            " [138.  33.  68.]\n",
            " [189.  35.  46.]\n",
            " [154.  34.  64.]\n",
            " [167.  34.  60.]\n",
            " [169.  34.  50.]\n",
            " [193.  36.  46.]\n",
            " [211.  38.  56.]] \n",
            "Phần output để kiểm tra mô hình(20%): \n",
            " [[191.  36.  50.]\n",
            " [157.  32.  52.]\n",
            " [202.  37.  62.]\n",
            " [189.  37.  52.]]\n"
          ]
        }
      ]
    },
    {
      "cell_type": "markdown",
      "source": [
        "Giải thích code\n",
        "\n",
        "+ from sklearn.model_selection import train_test_split\n",
        "\n",
        " + Đây là câu lệnh nhập (import) hàm train_test_split từ thư viện scikit-learn.\n",
        "\n",
        "+ train_test_split là công cụ giúp tự động chia dữ liệu thành 2 phần:\n",
        "\n",
        "  + tập huấn luyện (training set)\n",
        "\n",
        "  + tập kiểm tra (testing set)\n",
        "\n",
        "+ X_train, X_test, y_train, y_test = train_test_split(...)\n",
        "\n",
        " + Đây là phần chính để chia dữ liệu.\n",
        "\n",
        "+ Biến\t:                   Ý nghĩa\n",
        "\n",
        " + X_train: \tPhần dữ liệu đầu vào dùng để huấn luyện mô hình.\n",
        "\n",
        " + X_test: \tPhần dữ liệu đầu vào dùng để kiểm tra mô hình.\n",
        "\n",
        " + y_train: \tNhãn (output) tương ứng với X_train.\n",
        "\n",
        " + y_test: \tNhãn tương ứng với X_test.\n",
        "\n",
        "+ X, y\n",
        "\n",
        "  + X: là toàn bộ đầu vào (ví dụ: số lần chống đẩy, gập bụng, nhảy).\n",
        "\n",
        "  + y: là toàn bộ đầu ra (ví dụ: cân nặng, vòng eo, nhịp tim).\n",
        "\n",
        "  + Mình cần chia X và y tương ứng để không bị lệch thứ tự giữa dữ liệu đầu vào và kết quả đúng.\n",
        "\n",
        "+ test_size=0.2\n",
        "\n",
        " + Nghĩa là: 20% dữ liệu sẽ dùng làm tập kiểm tra (test).\n",
        "\n",
        " + Ngược lại, 80% còn lại sẽ là tập huấn luyện.\n",
        "\n",
        "+ Ví dụ: Nếu có 20 mẫu dữ liệu, ta sẽ chia thành:\n",
        "\n",
        " + 16 mẫu để huấn luyện (X_train, y_train)\n",
        "\n",
        " + 4 mẫu để kiểm tra (X_test, y_test)\n",
        "\n",
        "+ random_state=42\n",
        "\n",
        " + Dùng để đảm bảo kết quả chia dữ liệu luôn giống nhau mỗi lần chạy.\n",
        "\n",
        " + Bởi vì nếu không có random_state, mỗi lần chia sẽ ngẫu nhiên khác nhau → khó tái hiện kết quả.\n",
        "\n",
        " + Số 42 chỉ là một con số bất kỳ, bạn có thể dùng 0, 123, v.v...\n",
        "\n"
      ],
      "metadata": {
        "id": "os5FikKYQeGS"
      }
    },
    {
      "cell_type": "markdown",
      "source": [
        "2.3.Xử lí dữ liệu đầu vào và đầu ra:"
      ],
      "metadata": {
        "id": "R_gjRxxeRCiS"
      }
    },
    {
      "cell_type": "markdown",
      "source": [
        "- Mặc dù Linear Regression không phụ thuộc vào khoảng cách Euclidean, nhưng việc chuẩn hóa dữ liệu vẫn có thể cải thiện hiệu suất mô hình, đặc biệt khi các đặc trưng có phạm vi giá trị khác nhau."
      ],
      "metadata": {
        "id": "3l8o3mdSQ4cb"
      }
    },
    {
      "cell_type": "code",
      "source": [
        "from sklearn.preprocessing import StandardScaler\n",
        "scaler_X = StandardScaler()\n",
        "scaler_y = StandardScaler()\n",
        "\n",
        "X_train_scaled = scaler_X.fit_transform(X_train)\n",
        "X_test_scaled = scaler_X.transform(X_test)\n",
        "\n",
        "y_train_scaled = scaler_y.fit_transform(y_train)\n",
        "y_test_scaled = scaler_y.transform(y_test)\n",
        "\n",
        "print(\"Dữ liệu đầu vào để huấn luyện sau khi chuẩn hóa:\\n \",X_train_scaled)\n",
        "print(\"Dữ liệu đầu vào để kiểm tra sau khi chuẩn hóa:\\n \",X_test_scaled)\n",
        "print(\"Dữ liệu đầu vào để huấn luyện sau khi chuẩn hóa:\\n \",y_train_scaled)\n",
        "print(\"Dữ liệu đầu vào để kiểm tra sau khi chuẩn hóa:\\n \",y_test_scaled)"
      ],
      "metadata": {
        "colab": {
          "base_uri": "https://localhost:8080/"
        },
        "id": "bY2bi4eJMqaR",
        "outputId": "06636580-7950-4c09-9536-9dcb5ff7edbd"
      },
      "execution_count": null,
      "outputs": [
        {
          "output_type": "stream",
          "name": "stdout",
          "text": [
            "Dữ liệu đầu vào để huấn luyện sau khi chuẩn hóa:\n",
            "  [[ 0.96217441  1.01737782 -0.5138317 ]\n",
            " [-1.12847616 -0.59253873 -0.47696486]\n",
            " [ 0.58205612  1.17999566  0.86867512]\n",
            " [ 0.39199698 -0.5274916  -0.56913198]\n",
            " [ 0.96217441  1.42392241  0.0944713 ]\n",
            " [-1.12847616 -1.25927185 -0.79033307]\n",
            " [-1.69865359 -1.42188969 -0.32949746]\n",
            " [ 0.39199698 -0.59253873  0.61060718]\n",
            " [ 1.3422927   1.84672878  3.35718742]\n",
            " [-1.50859445 -0.44618268 -0.45853143]\n",
            " [ 0.58205612  0.28559757 -0.18203007]\n",
            " [ 0.77211527  1.26130457  0.68434088]\n",
            " [-0.74835787 -0.20225593 -0.5138317 ]\n",
            " [ 1.3422927  -0.28356485 -0.55069855]\n",
            " [-0.74835787 -1.09665402 -0.67973252]\n",
            " [-0.36823959 -0.59253873 -0.55069855]]\n",
            "Dữ liệu đầu vào để kiểm tra sau khi chuẩn hóa:\n",
            "  [[-0.93841702  0.39943005 -0.14516322]\n",
            " [ 0.20193784  1.50523133  0.22350527]\n",
            " [ 0.39199698  1.17999566  0.96084225]\n",
            " [-1.50859445 -0.44618268 -0.14516322]]\n",
            "Dữ liệu đầu vào để huấn luyện sau khi chuẩn hóa:\n",
            "  [[-0.04193978 -1.31260255  2.34584539]\n",
            " [ 0.19489664  0.18751465 -0.08438293]\n",
            " [-0.43666715 -0.71255567 -0.62443367]\n",
            " [-0.59455809 -0.11250879  0.72569318]\n",
            " [-0.83139451 -0.71255567 -0.3544083 ]\n",
            " [-0.04193978  0.48753809 -0.3544083 ]\n",
            " [ 2.76062451  3.18774905 -0.89445903]\n",
            " [ 0.62909674  0.78756153  0.18564244]\n",
            " [-0.91033999 -0.71255567 -0.08438293]\n",
            " [-1.54190377 -0.71255567  1.53576929]\n",
            " [ 0.47120579 -0.11250879 -1.43450977]\n",
            " [-0.91033999 -0.41253223  0.99571855]\n",
            " [-0.39719441 -0.41253223  0.45566781]\n",
            " [-0.31824894 -0.41253223 -0.89445903]\n",
            " [ 0.62909674  0.18751465 -1.43450977]\n",
            " [ 1.339606    0.78756153 -0.08438293]]\n",
            "Dữ liệu đầu vào để kiểm tra sau khi chuẩn hóa:\n",
            "  [[ 0.55015127  0.18751465 -0.89445903]\n",
            " [-0.79192178 -1.01257911 -0.62443367]\n",
            " [ 0.98435137  0.48753809  0.72569318]\n",
            " [ 0.47120579  0.48753809 -0.62443367]]\n"
          ]
        }
      ]
    },
    {
      "cell_type": "markdown",
      "source": [
        "## 3.Huấn luyện mô hình"
      ],
      "metadata": {
        "id": "YH44t6E4D8kx"
      }
    },
    {
      "cell_type": "markdown",
      "source": [
        "3.1. Khởi tạo mô hình:"
      ],
      "metadata": {
        "id": "sVSW0b1NJlCP"
      }
    },
    {
      "cell_type": "code",
      "source": [
        "from sklearn.linear_model import LinearRegression\n",
        "model = LinearRegression()\n"
      ],
      "metadata": {
        "id": "gexElRoIJoC8"
      },
      "execution_count": null,
      "outputs": []
    },
    {
      "cell_type": "markdown",
      "source": [
        "- LinearRegression: là mô hình hồi quy tuyến tính, sử dụng phương pháp tối ưu hóa để tìm đường thẳng phù hợp nhất với dữ liệu."
      ],
      "metadata": {
        "id": "xxcLhIzHKK8w"
      }
    },
    {
      "cell_type": "markdown",
      "source": [
        "3.2. Huấn luyện mô hình với dữ liệu chuẩn hóa:"
      ],
      "metadata": {
        "id": "tQfuajGcKO9z"
      }
    },
    {
      "cell_type": "code",
      "source": [
        "model.fit(X_train_scaled, y_train_scaled)"
      ],
      "metadata": {
        "colab": {
          "base_uri": "https://localhost:8080/",
          "height": 80
        },
        "id": "3C1YwOfpKWDV",
        "outputId": "2035620b-20db-4328-a932-b644e0e4e682"
      },
      "execution_count": null,
      "outputs": [
        {
          "output_type": "execute_result",
          "data": {
            "text/plain": [
              "LinearRegression()"
            ],
            "text/html": [
              "<style>#sk-container-id-2 {\n",
              "  /* Definition of color scheme common for light and dark mode */\n",
              "  --sklearn-color-text: #000;\n",
              "  --sklearn-color-text-muted: #666;\n",
              "  --sklearn-color-line: gray;\n",
              "  /* Definition of color scheme for unfitted estimators */\n",
              "  --sklearn-color-unfitted-level-0: #fff5e6;\n",
              "  --sklearn-color-unfitted-level-1: #f6e4d2;\n",
              "  --sklearn-color-unfitted-level-2: #ffe0b3;\n",
              "  --sklearn-color-unfitted-level-3: chocolate;\n",
              "  /* Definition of color scheme for fitted estimators */\n",
              "  --sklearn-color-fitted-level-0: #f0f8ff;\n",
              "  --sklearn-color-fitted-level-1: #d4ebff;\n",
              "  --sklearn-color-fitted-level-2: #b3dbfd;\n",
              "  --sklearn-color-fitted-level-3: cornflowerblue;\n",
              "\n",
              "  /* Specific color for light theme */\n",
              "  --sklearn-color-text-on-default-background: var(--sg-text-color, var(--theme-code-foreground, var(--jp-content-font-color1, black)));\n",
              "  --sklearn-color-background: var(--sg-background-color, var(--theme-background, var(--jp-layout-color0, white)));\n",
              "  --sklearn-color-border-box: var(--sg-text-color, var(--theme-code-foreground, var(--jp-content-font-color1, black)));\n",
              "  --sklearn-color-icon: #696969;\n",
              "\n",
              "  @media (prefers-color-scheme: dark) {\n",
              "    /* Redefinition of color scheme for dark theme */\n",
              "    --sklearn-color-text-on-default-background: var(--sg-text-color, var(--theme-code-foreground, var(--jp-content-font-color1, white)));\n",
              "    --sklearn-color-background: var(--sg-background-color, var(--theme-background, var(--jp-layout-color0, #111)));\n",
              "    --sklearn-color-border-box: var(--sg-text-color, var(--theme-code-foreground, var(--jp-content-font-color1, white)));\n",
              "    --sklearn-color-icon: #878787;\n",
              "  }\n",
              "}\n",
              "\n",
              "#sk-container-id-2 {\n",
              "  color: var(--sklearn-color-text);\n",
              "}\n",
              "\n",
              "#sk-container-id-2 pre {\n",
              "  padding: 0;\n",
              "}\n",
              "\n",
              "#sk-container-id-2 input.sk-hidden--visually {\n",
              "  border: 0;\n",
              "  clip: rect(1px 1px 1px 1px);\n",
              "  clip: rect(1px, 1px, 1px, 1px);\n",
              "  height: 1px;\n",
              "  margin: -1px;\n",
              "  overflow: hidden;\n",
              "  padding: 0;\n",
              "  position: absolute;\n",
              "  width: 1px;\n",
              "}\n",
              "\n",
              "#sk-container-id-2 div.sk-dashed-wrapped {\n",
              "  border: 1px dashed var(--sklearn-color-line);\n",
              "  margin: 0 0.4em 0.5em 0.4em;\n",
              "  box-sizing: border-box;\n",
              "  padding-bottom: 0.4em;\n",
              "  background-color: var(--sklearn-color-background);\n",
              "}\n",
              "\n",
              "#sk-container-id-2 div.sk-container {\n",
              "  /* jupyter's `normalize.less` sets `[hidden] { display: none; }`\n",
              "     but bootstrap.min.css set `[hidden] { display: none !important; }`\n",
              "     so we also need the `!important` here to be able to override the\n",
              "     default hidden behavior on the sphinx rendered scikit-learn.org.\n",
              "     See: https://github.com/scikit-learn/scikit-learn/issues/21755 */\n",
              "  display: inline-block !important;\n",
              "  position: relative;\n",
              "}\n",
              "\n",
              "#sk-container-id-2 div.sk-text-repr-fallback {\n",
              "  display: none;\n",
              "}\n",
              "\n",
              "div.sk-parallel-item,\n",
              "div.sk-serial,\n",
              "div.sk-item {\n",
              "  /* draw centered vertical line to link estimators */\n",
              "  background-image: linear-gradient(var(--sklearn-color-text-on-default-background), var(--sklearn-color-text-on-default-background));\n",
              "  background-size: 2px 100%;\n",
              "  background-repeat: no-repeat;\n",
              "  background-position: center center;\n",
              "}\n",
              "\n",
              "/* Parallel-specific style estimator block */\n",
              "\n",
              "#sk-container-id-2 div.sk-parallel-item::after {\n",
              "  content: \"\";\n",
              "  width: 100%;\n",
              "  border-bottom: 2px solid var(--sklearn-color-text-on-default-background);\n",
              "  flex-grow: 1;\n",
              "}\n",
              "\n",
              "#sk-container-id-2 div.sk-parallel {\n",
              "  display: flex;\n",
              "  align-items: stretch;\n",
              "  justify-content: center;\n",
              "  background-color: var(--sklearn-color-background);\n",
              "  position: relative;\n",
              "}\n",
              "\n",
              "#sk-container-id-2 div.sk-parallel-item {\n",
              "  display: flex;\n",
              "  flex-direction: column;\n",
              "}\n",
              "\n",
              "#sk-container-id-2 div.sk-parallel-item:first-child::after {\n",
              "  align-self: flex-end;\n",
              "  width: 50%;\n",
              "}\n",
              "\n",
              "#sk-container-id-2 div.sk-parallel-item:last-child::after {\n",
              "  align-self: flex-start;\n",
              "  width: 50%;\n",
              "}\n",
              "\n",
              "#sk-container-id-2 div.sk-parallel-item:only-child::after {\n",
              "  width: 0;\n",
              "}\n",
              "\n",
              "/* Serial-specific style estimator block */\n",
              "\n",
              "#sk-container-id-2 div.sk-serial {\n",
              "  display: flex;\n",
              "  flex-direction: column;\n",
              "  align-items: center;\n",
              "  background-color: var(--sklearn-color-background);\n",
              "  padding-right: 1em;\n",
              "  padding-left: 1em;\n",
              "}\n",
              "\n",
              "\n",
              "/* Toggleable style: style used for estimator/Pipeline/ColumnTransformer box that is\n",
              "clickable and can be expanded/collapsed.\n",
              "- Pipeline and ColumnTransformer use this feature and define the default style\n",
              "- Estimators will overwrite some part of the style using the `sk-estimator` class\n",
              "*/\n",
              "\n",
              "/* Pipeline and ColumnTransformer style (default) */\n",
              "\n",
              "#sk-container-id-2 div.sk-toggleable {\n",
              "  /* Default theme specific background. It is overwritten whether we have a\n",
              "  specific estimator or a Pipeline/ColumnTransformer */\n",
              "  background-color: var(--sklearn-color-background);\n",
              "}\n",
              "\n",
              "/* Toggleable label */\n",
              "#sk-container-id-2 label.sk-toggleable__label {\n",
              "  cursor: pointer;\n",
              "  display: flex;\n",
              "  width: 100%;\n",
              "  margin-bottom: 0;\n",
              "  padding: 0.5em;\n",
              "  box-sizing: border-box;\n",
              "  text-align: center;\n",
              "  align-items: start;\n",
              "  justify-content: space-between;\n",
              "  gap: 0.5em;\n",
              "}\n",
              "\n",
              "#sk-container-id-2 label.sk-toggleable__label .caption {\n",
              "  font-size: 0.6rem;\n",
              "  font-weight: lighter;\n",
              "  color: var(--sklearn-color-text-muted);\n",
              "}\n",
              "\n",
              "#sk-container-id-2 label.sk-toggleable__label-arrow:before {\n",
              "  /* Arrow on the left of the label */\n",
              "  content: \"▸\";\n",
              "  float: left;\n",
              "  margin-right: 0.25em;\n",
              "  color: var(--sklearn-color-icon);\n",
              "}\n",
              "\n",
              "#sk-container-id-2 label.sk-toggleable__label-arrow:hover:before {\n",
              "  color: var(--sklearn-color-text);\n",
              "}\n",
              "\n",
              "/* Toggleable content - dropdown */\n",
              "\n",
              "#sk-container-id-2 div.sk-toggleable__content {\n",
              "  max-height: 0;\n",
              "  max-width: 0;\n",
              "  overflow: hidden;\n",
              "  text-align: left;\n",
              "  /* unfitted */\n",
              "  background-color: var(--sklearn-color-unfitted-level-0);\n",
              "}\n",
              "\n",
              "#sk-container-id-2 div.sk-toggleable__content.fitted {\n",
              "  /* fitted */\n",
              "  background-color: var(--sklearn-color-fitted-level-0);\n",
              "}\n",
              "\n",
              "#sk-container-id-2 div.sk-toggleable__content pre {\n",
              "  margin: 0.2em;\n",
              "  border-radius: 0.25em;\n",
              "  color: var(--sklearn-color-text);\n",
              "  /* unfitted */\n",
              "  background-color: var(--sklearn-color-unfitted-level-0);\n",
              "}\n",
              "\n",
              "#sk-container-id-2 div.sk-toggleable__content.fitted pre {\n",
              "  /* unfitted */\n",
              "  background-color: var(--sklearn-color-fitted-level-0);\n",
              "}\n",
              "\n",
              "#sk-container-id-2 input.sk-toggleable__control:checked~div.sk-toggleable__content {\n",
              "  /* Expand drop-down */\n",
              "  max-height: 200px;\n",
              "  max-width: 100%;\n",
              "  overflow: auto;\n",
              "}\n",
              "\n",
              "#sk-container-id-2 input.sk-toggleable__control:checked~label.sk-toggleable__label-arrow:before {\n",
              "  content: \"▾\";\n",
              "}\n",
              "\n",
              "/* Pipeline/ColumnTransformer-specific style */\n",
              "\n",
              "#sk-container-id-2 div.sk-label input.sk-toggleable__control:checked~label.sk-toggleable__label {\n",
              "  color: var(--sklearn-color-text);\n",
              "  background-color: var(--sklearn-color-unfitted-level-2);\n",
              "}\n",
              "\n",
              "#sk-container-id-2 div.sk-label.fitted input.sk-toggleable__control:checked~label.sk-toggleable__label {\n",
              "  background-color: var(--sklearn-color-fitted-level-2);\n",
              "}\n",
              "\n",
              "/* Estimator-specific style */\n",
              "\n",
              "/* Colorize estimator box */\n",
              "#sk-container-id-2 div.sk-estimator input.sk-toggleable__control:checked~label.sk-toggleable__label {\n",
              "  /* unfitted */\n",
              "  background-color: var(--sklearn-color-unfitted-level-2);\n",
              "}\n",
              "\n",
              "#sk-container-id-2 div.sk-estimator.fitted input.sk-toggleable__control:checked~label.sk-toggleable__label {\n",
              "  /* fitted */\n",
              "  background-color: var(--sklearn-color-fitted-level-2);\n",
              "}\n",
              "\n",
              "#sk-container-id-2 div.sk-label label.sk-toggleable__label,\n",
              "#sk-container-id-2 div.sk-label label {\n",
              "  /* The background is the default theme color */\n",
              "  color: var(--sklearn-color-text-on-default-background);\n",
              "}\n",
              "\n",
              "/* On hover, darken the color of the background */\n",
              "#sk-container-id-2 div.sk-label:hover label.sk-toggleable__label {\n",
              "  color: var(--sklearn-color-text);\n",
              "  background-color: var(--sklearn-color-unfitted-level-2);\n",
              "}\n",
              "\n",
              "/* Label box, darken color on hover, fitted */\n",
              "#sk-container-id-2 div.sk-label.fitted:hover label.sk-toggleable__label.fitted {\n",
              "  color: var(--sklearn-color-text);\n",
              "  background-color: var(--sklearn-color-fitted-level-2);\n",
              "}\n",
              "\n",
              "/* Estimator label */\n",
              "\n",
              "#sk-container-id-2 div.sk-label label {\n",
              "  font-family: monospace;\n",
              "  font-weight: bold;\n",
              "  display: inline-block;\n",
              "  line-height: 1.2em;\n",
              "}\n",
              "\n",
              "#sk-container-id-2 div.sk-label-container {\n",
              "  text-align: center;\n",
              "}\n",
              "\n",
              "/* Estimator-specific */\n",
              "#sk-container-id-2 div.sk-estimator {\n",
              "  font-family: monospace;\n",
              "  border: 1px dotted var(--sklearn-color-border-box);\n",
              "  border-radius: 0.25em;\n",
              "  box-sizing: border-box;\n",
              "  margin-bottom: 0.5em;\n",
              "  /* unfitted */\n",
              "  background-color: var(--sklearn-color-unfitted-level-0);\n",
              "}\n",
              "\n",
              "#sk-container-id-2 div.sk-estimator.fitted {\n",
              "  /* fitted */\n",
              "  background-color: var(--sklearn-color-fitted-level-0);\n",
              "}\n",
              "\n",
              "/* on hover */\n",
              "#sk-container-id-2 div.sk-estimator:hover {\n",
              "  /* unfitted */\n",
              "  background-color: var(--sklearn-color-unfitted-level-2);\n",
              "}\n",
              "\n",
              "#sk-container-id-2 div.sk-estimator.fitted:hover {\n",
              "  /* fitted */\n",
              "  background-color: var(--sklearn-color-fitted-level-2);\n",
              "}\n",
              "\n",
              "/* Specification for estimator info (e.g. \"i\" and \"?\") */\n",
              "\n",
              "/* Common style for \"i\" and \"?\" */\n",
              "\n",
              ".sk-estimator-doc-link,\n",
              "a:link.sk-estimator-doc-link,\n",
              "a:visited.sk-estimator-doc-link {\n",
              "  float: right;\n",
              "  font-size: smaller;\n",
              "  line-height: 1em;\n",
              "  font-family: monospace;\n",
              "  background-color: var(--sklearn-color-background);\n",
              "  border-radius: 1em;\n",
              "  height: 1em;\n",
              "  width: 1em;\n",
              "  text-decoration: none !important;\n",
              "  margin-left: 0.5em;\n",
              "  text-align: center;\n",
              "  /* unfitted */\n",
              "  border: var(--sklearn-color-unfitted-level-1) 1pt solid;\n",
              "  color: var(--sklearn-color-unfitted-level-1);\n",
              "}\n",
              "\n",
              ".sk-estimator-doc-link.fitted,\n",
              "a:link.sk-estimator-doc-link.fitted,\n",
              "a:visited.sk-estimator-doc-link.fitted {\n",
              "  /* fitted */\n",
              "  border: var(--sklearn-color-fitted-level-1) 1pt solid;\n",
              "  color: var(--sklearn-color-fitted-level-1);\n",
              "}\n",
              "\n",
              "/* On hover */\n",
              "div.sk-estimator:hover .sk-estimator-doc-link:hover,\n",
              ".sk-estimator-doc-link:hover,\n",
              "div.sk-label-container:hover .sk-estimator-doc-link:hover,\n",
              ".sk-estimator-doc-link:hover {\n",
              "  /* unfitted */\n",
              "  background-color: var(--sklearn-color-unfitted-level-3);\n",
              "  color: var(--sklearn-color-background);\n",
              "  text-decoration: none;\n",
              "}\n",
              "\n",
              "div.sk-estimator.fitted:hover .sk-estimator-doc-link.fitted:hover,\n",
              ".sk-estimator-doc-link.fitted:hover,\n",
              "div.sk-label-container:hover .sk-estimator-doc-link.fitted:hover,\n",
              ".sk-estimator-doc-link.fitted:hover {\n",
              "  /* fitted */\n",
              "  background-color: var(--sklearn-color-fitted-level-3);\n",
              "  color: var(--sklearn-color-background);\n",
              "  text-decoration: none;\n",
              "}\n",
              "\n",
              "/* Span, style for the box shown on hovering the info icon */\n",
              ".sk-estimator-doc-link span {\n",
              "  display: none;\n",
              "  z-index: 9999;\n",
              "  position: relative;\n",
              "  font-weight: normal;\n",
              "  right: .2ex;\n",
              "  padding: .5ex;\n",
              "  margin: .5ex;\n",
              "  width: min-content;\n",
              "  min-width: 20ex;\n",
              "  max-width: 50ex;\n",
              "  color: var(--sklearn-color-text);\n",
              "  box-shadow: 2pt 2pt 4pt #999;\n",
              "  /* unfitted */\n",
              "  background: var(--sklearn-color-unfitted-level-0);\n",
              "  border: .5pt solid var(--sklearn-color-unfitted-level-3);\n",
              "}\n",
              "\n",
              ".sk-estimator-doc-link.fitted span {\n",
              "  /* fitted */\n",
              "  background: var(--sklearn-color-fitted-level-0);\n",
              "  border: var(--sklearn-color-fitted-level-3);\n",
              "}\n",
              "\n",
              ".sk-estimator-doc-link:hover span {\n",
              "  display: block;\n",
              "}\n",
              "\n",
              "/* \"?\"-specific style due to the `<a>` HTML tag */\n",
              "\n",
              "#sk-container-id-2 a.estimator_doc_link {\n",
              "  float: right;\n",
              "  font-size: 1rem;\n",
              "  line-height: 1em;\n",
              "  font-family: monospace;\n",
              "  background-color: var(--sklearn-color-background);\n",
              "  border-radius: 1rem;\n",
              "  height: 1rem;\n",
              "  width: 1rem;\n",
              "  text-decoration: none;\n",
              "  /* unfitted */\n",
              "  color: var(--sklearn-color-unfitted-level-1);\n",
              "  border: var(--sklearn-color-unfitted-level-1) 1pt solid;\n",
              "}\n",
              "\n",
              "#sk-container-id-2 a.estimator_doc_link.fitted {\n",
              "  /* fitted */\n",
              "  border: var(--sklearn-color-fitted-level-1) 1pt solid;\n",
              "  color: var(--sklearn-color-fitted-level-1);\n",
              "}\n",
              "\n",
              "/* On hover */\n",
              "#sk-container-id-2 a.estimator_doc_link:hover {\n",
              "  /* unfitted */\n",
              "  background-color: var(--sklearn-color-unfitted-level-3);\n",
              "  color: var(--sklearn-color-background);\n",
              "  text-decoration: none;\n",
              "}\n",
              "\n",
              "#sk-container-id-2 a.estimator_doc_link.fitted:hover {\n",
              "  /* fitted */\n",
              "  background-color: var(--sklearn-color-fitted-level-3);\n",
              "}\n",
              "</style><div id=\"sk-container-id-2\" class=\"sk-top-container\"><div class=\"sk-text-repr-fallback\"><pre>LinearRegression()</pre><b>In a Jupyter environment, please rerun this cell to show the HTML representation or trust the notebook. <br />On GitHub, the HTML representation is unable to render, please try loading this page with nbviewer.org.</b></div><div class=\"sk-container\" hidden><div class=\"sk-item\"><div class=\"sk-estimator fitted sk-toggleable\"><input class=\"sk-toggleable__control sk-hidden--visually\" id=\"sk-estimator-id-2\" type=\"checkbox\" checked><label for=\"sk-estimator-id-2\" class=\"sk-toggleable__label fitted sk-toggleable__label-arrow\"><div><div>LinearRegression</div></div><div><a class=\"sk-estimator-doc-link fitted\" rel=\"noreferrer\" target=\"_blank\" href=\"https://scikit-learn.org/1.6/modules/generated/sklearn.linear_model.LinearRegression.html\">?<span>Documentation for LinearRegression</span></a><span class=\"sk-estimator-doc-link fitted\">i<span>Fitted</span></span></div></label><div class=\"sk-toggleable__content fitted\"><pre>LinearRegression()</pre></div> </div></div></div></div>"
            ]
          },
          "metadata": {},
          "execution_count": 15
        }
      ]
    },
    {
      "cell_type": "markdown",
      "source": [
        "+ .fit(): huấn luyện mô hình bằng cách lưu lại toàn bộ dữ liệu huấn luyện (vì KNN không học theo kiểu truyền thống mà chỉ ghi nhớ).\n",
        "\n",
        "+ X_train_scaled, y_train_scaled: là dữ liệu đầu vào và đầu ra đã được chuẩn hóa từ bước trước."
      ],
      "metadata": {
        "id": "s8UHAsbMRYRE"
      }
    },
    {
      "cell_type": "markdown",
      "source": [
        "3.3.Dự đoán với tập kiểm tra"
      ],
      "metadata": {
        "id": "vIGDYAAsK-6i"
      }
    },
    {
      "cell_type": "code",
      "source": [
        "# Dự đoán trên tập kiểm tra\n",
        "y_pred_scaled = model.predict(X_test_scaled)\n",
        "y_pred = scaler_y.inverse_transform(y_pred_scaled)\n",
        "y_test_original = scaler_y.inverse_transform(y_test_scaled)\n",
        "print(\"Kết quả dự đoán cuối cùng:\\nWeight, Waist, Pulse\\n \", y_pred)\n",
        "print(\"Kết quả thực tế (không chuẩn hóa) để so sánh:\\nWeight, Waist, Pulse\\n \", y_test_original)"
      ],
      "metadata": {
        "colab": {
          "base_uri": "https://localhost:8080/"
        },
        "id": "9cvFA1-tK_cL",
        "outputId": "7e3927b2-f38e-48c9-a727-7975c1533306"
      },
      "execution_count": null,
      "outputs": [
        {
          "output_type": "stream",
          "name": "stdout",
          "text": [
            "Kết quả dự đoán cuối cùng:\n",
            "Weight, Waist, Pulse\n",
            "  [[166.29944554  34.34931272  61.69268724]\n",
            " [149.16544296  31.14078446  64.13298041]\n",
            " [159.6267021   33.15172508  59.78245538]\n",
            " [181.50941993  37.10650641  58.29380548]]\n",
            "Kết quả thực tế (không chuẩn hóa) để so sánh:\n",
            "Weight, Waist, Pulse\n",
            "  [[191.  36.  50.]\n",
            " [157.  32.  52.]\n",
            " [202.  37.  62.]\n",
            " [189.  37.  52.]]\n"
          ]
        }
      ]
    },
    {
      "cell_type": "markdown",
      "source": [
        "→ Dự đoán của mô hình Linear Regression gần đúng nhưng không hoàn toàn khớp với giá trị thực tế, vì:\n",
        "  - Những mẫu được dùng để dự đoán không hoàn toàn giống tập kiểm tra\n",
        "\n",
        "  - Linear Regression tạo ra một đường hồi quy tổng quát, nên giá trị dự đoán có xu hướng là trung bình hóa của dữ liệu, làm giảm khả năng phản ứng với những biến động mạnh.\n"
      ],
      "metadata": {
        "id": "d5O6mVbGR7U8"
      }
    },
    {
      "cell_type": "markdown",
      "source": [
        "3.4. Nhận xét:\n",
        "- Quá trình huấn luyện với Linear Regression diễn ra rất nhanh, vì mô hình chỉ cần tìm hệ số tuyến tính tốt nhất dựa trên phương pháp Least Squares.\n",
        "\n",
        "- Không có tham số cần điều chỉnh trực tiếp nhưng có thể cải thiện mô hình bằng cách kiểm tra mối quan hệ tuyến tính của dữ liệu\n",
        "\n",
        "- Mô hình cho kết quả nhanh chóng nhưng có thể bị hạn chế nếu dữ liệu không tuân theo xu hướng tuyến tính mạnh."
      ],
      "metadata": {
        "id": "XF655RR5Sa32"
      }
    },
    {
      "cell_type": "markdown",
      "source": [
        "## 4.Đánh giá mô hình"
      ],
      "metadata": {
        "id": "ANNZP-xbD_eZ"
      }
    },
    {
      "cell_type": "markdown",
      "source": [
        "4.1. Tính toán các chỉ số đánh giá:"
      ],
      "metadata": {
        "id": "FBOtrX_HN0eM"
      }
    },
    {
      "cell_type": "markdown",
      "source": [
        "Vì đây là bài toán hồi quy, ta sẽ sử dụng các chỉ số đánh giá sau:\n",
        "- Mean Absolute Error (MAE) – Sai số tuyệt đối trung bình\n",
        "\n",
        "- Mean Squared Error (MSE) – Trung bình bình phương sai số\n",
        "\n",
        "- Root Mean Squared Error (RMSE) – Căn bậc hai của MSE\n",
        "\n",
        "- R² Score – Độ chính xác của mô hình"
      ],
      "metadata": {
        "id": "hD74KyISS4zT"
      }
    },
    {
      "cell_type": "code",
      "source": [
        "from sklearn.metrics import mean_absolute_error, mean_squared_error, r2_score\n",
        "import numpy as np\n",
        "\n",
        "# Dự đoán trên tập kiểm tra\n",
        "y_pred_scaled = model.predict(X_test_scaled)\n",
        "\n",
        "# Đưa kết quả về dạng ban đầu\n",
        "y_pred = scaler_y.inverse_transform(y_pred_scaled)\n",
        "y_test_original = scaler_y.inverse_transform(y_test_scaled)\n",
        "\n",
        "# Tính các chỉ số\n",
        "mae = mean_absolute_error(y_test_original, y_pred)\n",
        "mse = mean_squared_error(y_test_original, y_pred)\n",
        "rmse = np.sqrt(mse)\n",
        "r2 = r2_score(y_test_original, y_pred)\n",
        "\n",
        "print(\"📊 Đánh giá mô hình Linear Regression:\")\n",
        "print(f\"- MAE: {mae:.2f}\")\n",
        "print(f\"- MSE: {mse:.2f}\")\n",
        "print(f\"- RMSE: {rmse:.2f}\")\n",
        "print(f\"- R² Score: {r2:.2f}\")\n"
      ],
      "metadata": {
        "colab": {
          "base_uri": "https://localhost:8080/"
        },
        "id": "dL12x0pzNzwG",
        "outputId": "9e161228-20ca-405c-97dd-dad89ff65569"
      },
      "execution_count": null,
      "outputs": [
        {
          "output_type": "stream",
          "name": "stdout",
          "text": [
            "📊 Đánh giá mô hình Linear Regression:\n",
            "- MAE: 10.10\n",
            "- MSE: 239.15\n",
            "- RMSE: 15.46\n",
            "- R² Score: -1.35\n"
          ]
        }
      ]
    },
    {
      "cell_type": "markdown",
      "source": [
        "Nhận xét:\n",
        "- Sai số dự đoán khá lớn, với MAE và RMSE đều cao, cho thấy khoảng cách giữa giá trị thực tế và giá trị dự đoán vẫn còn đáng kể.\n",
        "\n",
        "-Chỉ số R² âm, có nghĩa là mô hình dự đoán còn tệ hơn cả việc đoán trung bình. Điều này chứng tỏ rằng mô hình chưa học được xu hướng chính xác.\n"
      ],
      "metadata": {
        "id": "7uWOXAhBN8w_"
      }
    },
    {
      "cell_type": "markdown",
      "source": [
        "4.2. Trực quan hóa kết quả:\n"
      ],
      "metadata": {
        "id": "BeXZIxwVOMQx"
      }
    },
    {
      "cell_type": "code",
      "source": [
        "import matplotlib.pyplot as plt\n",
        "\n",
        "feature_names = [\"Weight\", \"Waist\", \"Pulse\"]\n",
        "\n",
        "for i in range(3):\n",
        "    plt.figure(figsize=(6, 4))\n",
        "    plt.plot(y_test_original[:, i], label=\"Thực tế\", marker=\"o\")\n",
        "    plt.plot(y_pred[:, i], label=\"Dự đoán\", marker=\"x\")\n",
        "    plt.title(f\"So sánh kết quả: {feature_names[i]}\")\n",
        "    plt.xlabel(\"Mẫu\")\n",
        "    plt.ylabel(\"Giá trị\")\n",
        "    plt.legend()\n",
        "    plt.grid(True)\n",
        "    plt.tight_layout()\n",
        "    plt.show()\n"
      ],
      "metadata": {
        "colab": {
          "base_uri": "https://localhost:8080/",
          "height": 1000
        },
        "id": "o4FlA4XdOPwb",
        "outputId": "fff521ea-0de7-4441-aaa2-1371000beb53"
      },
      "execution_count": null,
      "outputs": [
        {
          "output_type": "display_data",
          "data": {
            "text/plain": [
              "<Figure size 600x400 with 1 Axes>"
            ],
            "image/png": "[encoded data removed]"
          },
          "metadata": {}
        },
        {
          "output_type": "display_data",
          "data": {
            "text/plain": [
              "<Figure size 600x400 with 1 Axes>"
            ],
            "image/png": "[encoded data removed]"
          },
          "metadata": {}
        },
        {
          "output_type": "display_data",
          "data": {
            "text/plain": [
              "<Figure size 600x400 with 1 Axes>"
            ],
            "image/png": "[encoded data removed]"
          },
          "metadata": {}
        }
      ]
    },
    {
      "cell_type": "markdown",
      "source": [
        "Nhận xét:\n",
        "+ Biểu đồ Chỉ số 1 (Weight – Trọng lượng):\n",
        "\n",
        " + Đường giá trị thực tế biến động mạnh, cho thấy dữ liệu có sự phân bố rộng.\n",
        "\n",
        " + Đường giá trị dự đoán tương đối phẳng, không theo sát dao động thực tế.\n",
        "\n",
        " + Một số điểm có khoảng cách lớn giữa thực tế và dự đoán, chứng tỏ mô hình chưa học được xu hướng đầy đủ.\n",
        "\n",
        "+ Biểu đồ Chỉ số 2 (Waist – Vòng eo):\n",
        " + Đường dự đoán bám khá sát đường thực tế, nhưng vẫn có một số sai lệch nhỏ.\n",
        "\n",
        " + Có mẫu mà mô hình dự đoán thấp hơn thực tế rõ rệt.\n",
        "+ Biểu đồ Chỉ số 3 (Pulse - Nhịp tim):\n",
        "\n",
        " + Giá trị thực tế dao động rất mạnh, trong khi giá trị dự đoán có xu hướng giữ ở mức trung bình.\n",
        "\n",
        " + Ở một số mẫu, dự đoán hoàn toàn lệch so với thực tế (ví dụ: tại mẫu có nhịp tim tăng cao).\n",
        "\n"
      ],
      "metadata": {
        "id": "Y-TUM5weOoZu"
      }
    },
    {
      "cell_type": "markdown",
      "source": [
        "## 5.So sánh và kết luận"
      ],
      "metadata": {
        "id": "MIWgcp4dEBo9"
      }
    },
    {
      "cell_type": "markdown",
      "source": [
        "5.1 So sánh giữa kết quả dự đoán và thực tế\n",
        "\n",
        "+ Sau khi huấn luyện mô hình Linear Regression và thực hiện dự đoán trên tập kiểm tra, ta tiến hành so sánh giữa kết quả dự đoán và thực tế để đánh giá độ chính xác.\n",
        "\n",
        "+ Ưu điểm:\n",
        " + Mô hình có khả năng dự đoán gần đúng giá trị trung bình của các chỉ số  \n",
        "\n",
        " + Đối với biến \"Waist\" (Vòng eo), dự đoán khá sát với thực tế, cho thấy mối quan hệ tuyến tính rõ ràng giữa đầu vào và đầu ra.\n",
        "\n",
        "+ Hạn chế:\n",
        "\n",
        " + Chênh lệch rõ rệt giữa dự đoán và thực tế, đặc biệt là ở chỉ số \"Weight\" và \"Pulse\".\n",
        "\n",
        " + Mô hình có xu hướng \"mềm hóa\" dữ liệu, không phản ứng tốt với các biến động mạnh, dẫn đến sai số lớn.\n",
        "\n",
        " + Giá trị dự đoán không thể hiện rõ xu hướng lên - xuống của dữ liệu thực, mà chỉ tạo ra một đường hồi quy tuyến tính chung. Điều này gây hạn chế khi dữ liệu có yếu tố phi tuyến.\n",
        "\n",
        "5.2 Đánh giá chất lượng mô hình qua các chỉ số:\n",
        "\n",
        "+ Chỉ số\tGiá trị\n",
        "  - MAE: 10.10\n",
        "  - MSE: 239.15\n",
        "  - RMSE: 15.46\n",
        "  - R² Score: -1.35\n",
        "\n",
        "+ Giải thích nhanh:\n",
        "\n",
        " + MAE (10.10) và RMSE (15.46) khá lớn, cho thấy sai số giữa giá trị thực tế và dự đoán còn đáng kể.\n",
        "\n",
        " + SE (239.15) cao, điều này chứng tỏ mô hình chưa dự đoán tốt với dữ liệu kiểm tra.\n",
        "\n",
        " + R² âm (-1.35), điều này cho thấy mô hình hoạt động tệ hơn cả một mô hình dự đoán trung bình\n",
        "\n",
        "5.3 Kết luận tổng thể\n",
        "\n",
        "+ Mô hình Linear Regression đã được triển khai thành công\n",
        "\n",
        "+ Tuy nhiên, kết quả dự đoán chưa đạt chất lượng tốt vì:\n",
        " + Sai số khá cao, đặc biệt là đối với các biến Weight và Pulse\n",
        "\n",
        " + Độ chính xác kém, thể hiện qua giá trị R² âm (-1.35)\n",
        "\n",
        " + Biểu đồ cho thấy xu hướng sai lệch đáng kể"
      ],
      "metadata": {
        "id": "61Pm4HfBT4fc"
      }
    }
  ]
}